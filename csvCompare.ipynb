{
 "cells": [
  {
   "cell_type": "markdown",
   "id": "b0f5d078",
   "metadata": {},
   "source": [
    "# Compare Each predictions"
   ]
  },
  {
   "cell_type": "code",
   "execution_count": 1,
   "id": "6f68c43d",
   "metadata": {},
   "outputs": [],
   "source": [
    "import pandas as pd\n",
    "import numpy as np\n",
    "import os\n",
    "from tqdm import tqdm\n",
    "import FinanceDataReader as fdr\n",
    "import matplotlib.pyplot as plt"
   ]
  },
  {
   "cell_type": "markdown",
   "id": "1fd7d415",
   "metadata": {},
   "source": [
    "## Make Stock Price"
   ]
  },
  {
   "cell_type": "code",
   "execution_count": 2,
   "id": "64d7a4a6",
   "metadata": {},
   "outputs": [],
   "source": [
    "# open stock data\n",
    "stock_path = './open'\n",
    "list_name = 'stock_list.csv'\n",
    "sample_name = 'sample_submission.csv'"
   ]
  },
  {
   "cell_type": "code",
   "execution_count": 3,
   "id": "d615d9e9",
   "metadata": {},
   "outputs": [
    {
     "data": {
      "text/html": [
       "<div>\n",
       "<style scoped>\n",
       "    .dataframe tbody tr th:only-of-type {\n",
       "        vertical-align: middle;\n",
       "    }\n",
       "\n",
       "    .dataframe tbody tr th {\n",
       "        vertical-align: top;\n",
       "    }\n",
       "\n",
       "    .dataframe thead th {\n",
       "        text-align: right;\n",
       "    }\n",
       "</style>\n",
       "<table border=\"1\" class=\"dataframe\">\n",
       "  <thead>\n",
       "    <tr style=\"text-align: right;\">\n",
       "      <th></th>\n",
       "      <th>종목명</th>\n",
       "      <th>종목코드</th>\n",
       "      <th>상장시장</th>\n",
       "    </tr>\n",
       "  </thead>\n",
       "  <tbody>\n",
       "    <tr>\n",
       "      <th>0</th>\n",
       "      <td>삼성전자</td>\n",
       "      <td>005930</td>\n",
       "      <td>KOSPI</td>\n",
       "    </tr>\n",
       "    <tr>\n",
       "      <th>1</th>\n",
       "      <td>SK하이닉스</td>\n",
       "      <td>000660</td>\n",
       "      <td>KOSPI</td>\n",
       "    </tr>\n",
       "    <tr>\n",
       "      <th>2</th>\n",
       "      <td>NAVER</td>\n",
       "      <td>035420</td>\n",
       "      <td>KOSPI</td>\n",
       "    </tr>\n",
       "    <tr>\n",
       "      <th>3</th>\n",
       "      <td>카카오</td>\n",
       "      <td>035720</td>\n",
       "      <td>KOSPI</td>\n",
       "    </tr>\n",
       "    <tr>\n",
       "      <th>4</th>\n",
       "      <td>삼성바이오로직스</td>\n",
       "      <td>207940</td>\n",
       "      <td>KOSPI</td>\n",
       "    </tr>\n",
       "    <tr>\n",
       "      <th>...</th>\n",
       "      <td>...</td>\n",
       "      <td>...</td>\n",
       "      <td>...</td>\n",
       "    </tr>\n",
       "    <tr>\n",
       "      <th>365</th>\n",
       "      <td>맘스터치</td>\n",
       "      <td>220630</td>\n",
       "      <td>KOSDAQ</td>\n",
       "    </tr>\n",
       "    <tr>\n",
       "      <th>366</th>\n",
       "      <td>다날</td>\n",
       "      <td>064260</td>\n",
       "      <td>KOSDAQ</td>\n",
       "    </tr>\n",
       "    <tr>\n",
       "      <th>367</th>\n",
       "      <td>제이시스메디칼</td>\n",
       "      <td>287410</td>\n",
       "      <td>KOSDAQ</td>\n",
       "    </tr>\n",
       "    <tr>\n",
       "      <th>368</th>\n",
       "      <td>크리스에프앤씨</td>\n",
       "      <td>110790</td>\n",
       "      <td>KOSDAQ</td>\n",
       "    </tr>\n",
       "    <tr>\n",
       "      <th>369</th>\n",
       "      <td>쎄트렉아이</td>\n",
       "      <td>099320</td>\n",
       "      <td>KOSDAQ</td>\n",
       "    </tr>\n",
       "  </tbody>\n",
       "</table>\n",
       "<p>370 rows × 3 columns</p>\n",
       "</div>"
      ],
      "text/plain": [
       "          종목명    종목코드    상장시장\n",
       "0        삼성전자  005930   KOSPI\n",
       "1      SK하이닉스  000660   KOSPI\n",
       "2       NAVER  035420   KOSPI\n",
       "3         카카오  035720   KOSPI\n",
       "4    삼성바이오로직스  207940   KOSPI\n",
       "..        ...     ...     ...\n",
       "365      맘스터치  220630  KOSDAQ\n",
       "366        다날  064260  KOSDAQ\n",
       "367   제이시스메디칼  287410  KOSDAQ\n",
       "368   크리스에프앤씨  110790  KOSDAQ\n",
       "369     쎄트렉아이  099320  KOSDAQ\n",
       "\n",
       "[370 rows x 3 columns]"
      ]
     },
     "execution_count": 3,
     "metadata": {},
     "output_type": "execute_result"
    }
   ],
   "source": [
    "# print stock data by code\n",
    "stock_list = pd.read_csv(os.path.join(stock_path,list_name))\n",
    "stock_list['종목코드'] = stock_list['종목코드'].apply(lambda x : str(x).zfill(6))\n",
    "stock_list"
   ]
  },
  {
   "cell_type": "code",
   "execution_count": 6,
   "id": "2defd802",
   "metadata": {},
   "outputs": [],
   "source": [
    "# 실제 주식가격 만들기\n",
    "def make_realPrice_submission():\n",
    "    # set date\n",
    "    start_date = '20211101'\n",
    "    end_date = '20211105'\n",
    "    # set csv\n",
    "    sample_submission = pd.read_csv(os.path.join(stock_path, sample_name))\n",
    "    for code in tqdm(stock_list['종목코드'].values):\n",
    "        data = fdr.DataReader(code, start = start_date, end = end_date).reset_index()\n",
    "        sample_submission.loc[0:4,code] = data['Close']\n",
    "    # 실제 주식가격 저장\n",
    "    sample_submission.to_csv('realPrice.csv',index=False)\n",
    "    return sample_submission"
   ]
  },
  {
   "cell_type": "markdown",
   "id": "a0e9c7a5",
   "metadata": {},
   "source": [
    "## Compare 21-11-01 ~ 21-11-05"
   ]
  },
  {
   "cell_type": "code",
   "execution_count": 7,
   "id": "aa34d507",
   "metadata": {
    "scrolled": true
   },
   "outputs": [
    {
     "name": "stderr",
     "output_type": "stream",
     "text": [
      "100%|████████████████████████████████████████████████████████████████████████████████| 370/370 [01:26<00:00,  4.29it/s]\n"
     ]
    }
   ],
   "source": [
    "predict_path = './'\n",
    "realPrice = 'realPrice.csv'\n",
    "linear = 'BASELINE_Linear.csv'\n",
    "lstm = 'LSTM_2layers_8nodes.csv'\n",
    "\n",
    "try:\n",
    "    realPrice_submission = pd.read_csv(os.path.join(predict_path, realPrice))\n",
    "except:\n",
    "    print('making realPrice')\n",
    "    realPrice_submission = make_realPrice_submission()\n",
    "linear_submission = pd.read_csv(os.path.join(predict_path, linear))\n",
    "lstm_submisson = pd.read_csv(os.path.join(predict_path, lstm))"
   ]
  },
  {
   "cell_type": "code",
   "execution_count": 42,
   "id": "70da8b15",
   "metadata": {},
   "outputs": [
    {
     "name": "stderr",
     "output_type": "stream",
     "text": [
      "100%|██████████████████████████████████████████████████████████████████████████████| 370/370 [00:00<00:00, 3959.69it/s]\n"
     ]
    }
   ],
   "source": [
    "# 편차 제곱의 합 계산\n",
    "losslist_linear = []\n",
    "losslist_lstm = []\n",
    "for code in tqdm(stock_list['종목코드'].values):\n",
    "    loss_linear = 0\n",
    "    loss_lstm = 0\n",
    "    for i in range(5):\n",
    "        loss_linear += (realPrice_submission.loc[i,code] - linear_submission.loc[i,code])**2\n",
    "        loss_lstm += (realPrice_submission.loc[i,code] - lstm_submisson.loc[i,code])**2\n",
    "    losslist_linear.append(loss_linear)\n",
    "    losslist_lstm.append(loss_lstm)"
   ]
  },
  {
   "cell_type": "code",
   "execution_count": 46,
   "id": "ce312bdd",
   "metadata": {},
   "outputs": [],
   "source": [
    "# linear_loss 1로 기준 맞추기\n",
    "for idx in range(len(losslist_linear)):\n",
    "    div = losslist_linear[idx]\n",
    "    losslist_linear[idx] /= div\n",
    "    losslist_lstm[idx] /= div"
   ]
  },
  {
   "cell_type": "code",
   "execution_count": 49,
   "id": "73e5fce4",
   "metadata": {},
   "outputs": [
    {
     "data": {
      "image/png": "[encoded data removed]",
      "text/plain": [
       "<Figure size 432x288 with 1 Axes>"
      ]
     },
     "metadata": {
      "needs_background": "light"
     },
     "output_type": "display_data"
    }
   ],
   "source": [
    "# 편차 제곱 그래프로 표시\n",
    "plt.ylim(0, 10)\n",
    "plt.plot(losslist_linear, label='linear_loss')\n",
    "plt.plot(losslist_lstm, label='lstm_loss')\n",
    "plt.ylabel('loss')\n",
    "plt.legend()\n",
    "plt.show()"
   ]
  },
  {
   "cell_type": "code",
   "execution_count": 50,
   "id": "ad3aed77",
   "metadata": {},
   "outputs": [
    {
     "data": {
      "text/plain": [
       "(370.0, 2039.3255491498)"
      ]
     },
     "execution_count": 50,
     "metadata": {},
     "output_type": "execute_result"
    }
   ],
   "source": [
    "(sum(losslist_linear), sum(losslist_lstm))"
   ]
  }
 ],
 "metadata": {
  "kernelspec": {
   "display_name": "Python 3 (ipykernel)",
   "language": "python",
   "name": "python3"
  },
  "language_info": {
   "codemirror_mode": {
    "name": "ipython",
    "version": 3
   },
   "file_extension": ".py",
   "mimetype": "text/x-python",
   "name": "python",
   "nbconvert_exporter": "python",
   "pygments_lexer": "ipython3",
   "version": "3.9.7"
  }
 },
 "nbformat": 4,
 "nbformat_minor": 5
}
