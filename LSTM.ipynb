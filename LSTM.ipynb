{
 "cells": [
  {
   "cell_type": "markdown",
   "id": "e44a69ea",
   "metadata": {},
   "source": [
    "# LSTM\n",
    "## Using stock data of 60 days to predict"
   ]
  },
  {
   "cell_type": "code",
   "execution_count": 1,
   "id": "8c5dc215",
   "metadata": {},
   "outputs": [],
   "source": [
    "# install pakages\n",
    "# pip install finance-datareader, tqdm, ...\n",
    "! pip -q install --upgrade pip\n",
    "! pip --disable-pip-version-check -q install bs4\n",
    "! pip --disable-pip-version-check -q install finance-datareader\n",
    "! pip --disable-pip-version-check -q install tqdm\n",
    "! pip --disable-pip-version-check -q install matplotlib\n",
    "# install torch\n",
    "! pip --disable-pip-version-check -q install torch --extra-index-url https://download.pytorch.org/whl/cu113"
   ]
  },
  {
   "cell_type": "markdown",
   "id": "fcd6b905",
   "metadata": {},
   "source": [
    "# Data Processing"
   ]
  },
  {
   "cell_type": "code",
   "execution_count": 2,
   "id": "8a44e948",
   "metadata": {},
   "outputs": [],
   "source": [
    "import os\n",
    "os.environ[\"KMP_DUPLICATE_LIB_OK\"]=\"TRUE\"\n",
    "import pandas as pd\n",
    "import numpy as np\n",
    "import FinanceDataReader as fdr\n",
    "from tqdm import tqdm"
   ]
  },
  {
   "cell_type": "code",
   "execution_count": 3,
   "id": "5fd4b055",
   "metadata": {},
   "outputs": [],
   "source": [
    "# open stock data\n",
    "path = './open'\n",
    "list_name = 'stock_list.csv'\n",
    "sample_name = 'sample_submission.csv'"
   ]
  },
  {
   "cell_type": "code",
   "execution_count": 4,
   "id": "60699fab",
   "metadata": {
    "scrolled": true
   },
   "outputs": [],
   "source": [
    "# print stock data by code\n",
    "stock_list = pd.read_csv(os.path.join(path,list_name))\n",
    "stock_list['종목코드'] = stock_list['종목코드'].apply(lambda x : str(x).zfill(6))"
   ]
  },
  {
   "cell_type": "code",
   "execution_count": 5,
   "id": "967b2978",
   "metadata": {},
   "outputs": [],
   "source": [
    "# 전역변수\n",
    "# 60일의 일일 종가를 기준으로 예측\n",
    "predict_days = 60\n",
    "\n",
    "# 입력값 설정\n",
    "features = ['Open','Low','High','Close'] # 종가 가져오기\n",
    "norm_factors = {'Open':1e6,'Low':1e6,'High':1e6,'Close':1e6} # 100만으로 나누기"
   ]
  },
  {
   "cell_type": "code",
   "execution_count": 6,
   "id": "3498e2cf",
   "metadata": {},
   "outputs": [],
   "source": [
    "# 주식 가격 가져오는 메소드\n",
    "def get_data(code, start_date, end_date):\n",
    "    stock_data = fdr.DataReader(code, start = start_date, end = end_date).reset_index()\n",
    "    # 토요일, 일요일 제거, Business day로 expand\n",
    "    business_days = pd.DataFrame(pd.date_range(start_date, end_date, freq='B'), columns = ['Date'])\n",
    "    stock_data = pd.merge(business_days, stock_data, how = 'outer')\n",
    "    # Nah를 그 전 종가로 채움\n",
    "    stock_data = stock_data.ffill() \n",
    "    # 그래도 Nah 있다면 Nah를 그 앞 종가로 채움\n",
    "    stock_data = stock_data.bfill() \n",
    "    return stock_data"
   ]
  },
  {
   "cell_type": "code",
   "execution_count": 7,
   "id": "ad1acbe5",
   "metadata": {},
   "outputs": [],
   "source": [
    "# 주식 가격 가공하는 메소드\n",
    "def process_data(stock_data):\n",
    "    stock_data = stock_data[features].copy()\n",
    "    for column in stock_data.columns:\n",
    "        stock_data[column] /= norm_factors[column]\n",
    "    stock_linear_data = stock_data.values.reshape(-1,len(features)) # 세로 -> 가로 ( [ [],[],[] ...  ] )\n",
    "\n",
    "    train = stock_linear_data[:-(10)] # train 데이터\n",
    "    val = stock_linear_data[-(predict_days+10):] # 예측기간 + 10 (train과 별개로 확인하기 위한 데이터, overfitting 확인 위함)\n",
    "    test = stock_linear_data[-(predict_days+5):] # 예측기간 + 5 (예측이 잘 되었는지 확인하기 위함)\n",
    "    return train, val, test\n",
    "\n",
    "# 주식 가격을 x, y 의 dict로 변환\n",
    "def to_xy(time_series):\n",
    "    xy = []\n",
    "    for i in range(predict_days, len(time_series)):\n",
    "        x = time_series[i-predict_days:i]\n",
    "        y = time_series[i] # 종가만 예측\n",
    "        xy.append({'x': x, 'y': y})\n",
    "    return xy"
   ]
  },
  {
   "cell_type": "code",
   "execution_count": 8,
   "id": "bbf2464b",
   "metadata": {
    "scrolled": true
   },
   "outputs": [
    {
     "name": "stderr",
     "output_type": "stream",
     "text": [
      "100%|████████████████████████████████████████████████████████████████████████████████| 370/370 [01:28<00:00,  4.18it/s]\n"
     ]
    },
    {
     "data": {
      "text/plain": [
       "(72150, 3700, 1850)"
      ]
     },
     "execution_count": 8,
     "metadata": {},
     "output_type": "execute_result"
    }
   ],
   "source": [
    "# set date\n",
    "start_date = '20201101'\n",
    "end_date = '20211105'\n",
    "# make data\n",
    "train_data, val_data, test_data = [], [], []\n",
    "for code in tqdm(stock_list['종목코드'].values):\n",
    "    data = get_data(code, start_date, end_date)\n",
    "    train, val, test = process_data(data)\n",
    "    train_data += to_xy(train)\n",
    "    val_data += to_xy(val)\n",
    "    test_data += to_xy(test)\n",
    "    \n",
    "len(train_data), len(val_data), len(test_data)"
   ]
  },
  {
   "cell_type": "markdown",
   "id": "9dd5420b",
   "metadata": {},
   "source": [
    "# Torch"
   ]
  },
  {
   "cell_type": "code",
   "execution_count": 9,
   "id": "fde29f58",
   "metadata": {},
   "outputs": [],
   "source": [
    "import torch\n",
    "import torch.nn as nn\n",
    "import torch.optim as optim\n",
    "from torch.utils.data import Dataset, DataLoader"
   ]
  },
  {
   "cell_type": "code",
   "execution_count": 10,
   "id": "4ed212b9",
   "metadata": {},
   "outputs": [],
   "source": [
    "# Data to torchData\n",
    "class StockDataset(Dataset):\n",
    "    def __init__(self, data):\n",
    "        self.data = data\n",
    "            \n",
    "    def __len__(self):\n",
    "        return len(self.data)\n",
    "    \n",
    "    def __getitem__(self, i):\n",
    "        x = torch.tensor(self.data[i]['x'], dtype=torch.float32)\n",
    "        y = torch.tensor(self.data[i]['y'], dtype=torch.float32)\n",
    "        return x, y"
   ]
  },
  {
   "cell_type": "code",
   "execution_count": 11,
   "id": "f8886741",
   "metadata": {},
   "outputs": [],
   "source": [
    "trainset = StockDataset(train_data)\n",
    "valset = StockDataset(val_data)"
   ]
  },
  {
   "cell_type": "markdown",
   "id": "f66c9740",
   "metadata": {},
   "source": [
    "# Learning Model"
   ]
  },
  {
   "cell_type": "code",
   "execution_count": 12,
   "id": "54ce4499",
   "metadata": {},
   "outputs": [],
   "source": [
    "class StockPredictor(nn.Module):\n",
    "    def __init__(self, n, h, dropout):\n",
    "        super().__init__()\n",
    "        \n",
    "        self.lstm = nn.LSTM(\n",
    "            input_size=len(features), # 종가 input\n",
    "            hidden_size=h, \n",
    "            num_layers=n,\n",
    "            dropout=dropout,\n",
    "            bidirectional=False, \n",
    "            batch_first=True\n",
    "        )\n",
    "        \n",
    "        self.linear = nn.Sequential(\n",
    "            nn.Flatten(), # [[1],[2],[3]...] -> [1,2,3..]\n",
    "            nn.ReLU(),\n",
    "            nn.Linear(h, 1) # [1,2,3..] -> [X]\n",
    "        )\n",
    "        \n",
    "    def forward(self, x):\n",
    "        # x : input (batch, seq)\n",
    "        lstm_output, lstm_hidden = self.lstm(x)\n",
    "        # lstm_output : (batch, seq, hidden_nodes)\n",
    "        linear_output = self.linear(lstm_output[:,-1,:]) # 마지막 결과만 이용해서 미래 가격 예측\n",
    "        \n",
    "        return linear_output"
   ]
  },
  {
   "cell_type": "markdown",
   "id": "af01b32d",
   "metadata": {},
   "source": [
    "# Training"
   ]
  },
  {
   "cell_type": "code",
   "execution_count": 13,
   "id": "73406f57",
   "metadata": {},
   "outputs": [
    {
     "data": {
      "text/plain": [
       "device(type='cuda', index=0)"
      ]
     },
     "execution_count": 13,
     "metadata": {},
     "output_type": "execute_result"
    }
   ],
   "source": [
    "# 학습 장치 설정\n",
    "if torch.cuda.is_available():\n",
    "    device = torch.device(\"cuda:0\")\n",
    "else:\n",
    "    device = torch.device(\"cpu\")\n",
    "device"
   ]
  },
  {
   "cell_type": "code",
   "execution_count": 14,
   "id": "59f7e7b9",
   "metadata": {},
   "outputs": [],
   "source": [
    "# 초기값 설정\n",
    "# jupyter 메모리 최대값 설정 변경\n",
    "# jupyter_notebook_config.py -> c.NotebookApp.max_buffer_size =10000000000\n",
    "num_epochs = 200\n",
    "num_workers = 0\n",
    "\n",
    "batch_size = 2048\n",
    "learning_rate = 1e-3\n",
    "dropout_rate = 0.5\n",
    "\n",
    "n = 2\n",
    "h = 8"
   ]
  },
  {
   "cell_type": "code",
   "execution_count": 15,
   "id": "b9f5a373",
   "metadata": {},
   "outputs": [
    {
     "data": {
      "text/plain": [
       "'./models/LSTM_2layers_8nodes/features4_bs2048_lr0.001_dr0.5_date(20201101~20211105).pt'"
      ]
     },
     "execution_count": 15,
     "metadata": {},
     "output_type": "execute_result"
    }
   ],
   "source": [
    "# set name, path to save model\n",
    "model_name = f'LSTM_{n}layers_{h}nodes'\n",
    "model_path = f'./models/'\n",
    "if not os.path.isdir(model_path):\n",
    "    os.mkdir(model_path)\n",
    "if not os.path.isdir(model_path+model_name):\n",
    "    os.mkdir(model_path+model_name)\n",
    "\n",
    "save_path = f'{model_path}{model_name}/features{len(features)}_bs{batch_size}_lr{learning_rate}_dr{dropout_rate}_date({start_date}~{end_date}).pt'\n",
    "save_path"
   ]
  },
  {
   "cell_type": "code",
   "execution_count": 16,
   "id": "4c66a872",
   "metadata": {},
   "outputs": [],
   "source": [
    "# model, optimizer\n",
    "model = StockPredictor(n, h, dropout_rate).to(device)\n",
    "optimizer = torch.optim.Adam(model.parameters(), lr=learning_rate)\n",
    "# 동적 학습율\n",
    "scheduler = optim.lr_scheduler.LambdaLR(optimizer=optimizer,\n",
    "                                        lr_lambda=lambda epoch: 0.97 ** epoch,\n",
    "                                        last_epoch=-1)"
   ]
  },
  {
   "cell_type": "code",
   "execution_count": 17,
   "id": "7cd4c998",
   "metadata": {},
   "outputs": [],
   "source": [
    "train_loader = torch.utils.data.DataLoader(trainset, batch_size=batch_size, num_workers=num_workers, shuffle=True)\n",
    "val_loader = torch.utils.data.DataLoader(valset, batch_size=batch_size, num_workers=num_workers, shuffle=False)"
   ]
  },
  {
   "cell_type": "code",
   "execution_count": 18,
   "id": "9ec9c2d6",
   "metadata": {},
   "outputs": [],
   "source": [
    "def step(batch, training):\n",
    "    x = batch[0].to(device)\n",
    "    y = batch[1].to(device)\n",
    "    if training:\n",
    "        model.train()\n",
    "        output = model(x)\n",
    "        loss = nn.HuberLoss()(output, y)\n",
    "        loss.backward()\n",
    "        optimizer.step()\n",
    "        optimizer.zero_grad()\n",
    "    else:\n",
    "        model.eval()\n",
    "        with torch.no_grad():\n",
    "            output = model(x)\n",
    "            loss = nn.HuberLoss()(output, y)\n",
    "    return loss.item() * x.shape[0]\n",
    "\n",
    "\n",
    "def run_epoch(loader, training):\n",
    "    total_loss = 0\n",
    "    # 배치 size만큼 학습\n",
    "    for batch in tqdm(loader):\n",
    "        batch_loss = step(batch, training)\n",
    "        total_loss += batch_loss\n",
    "    if training: # 학습율 조정\n",
    "        scheduler.step()\n",
    "    return total_loss/len(loader.dataset)"
   ]
  },
  {
   "cell_type": "code",
   "execution_count": 19,
   "id": "46c043ad",
   "metadata": {},
   "outputs": [],
   "source": [
    "# show plot\n",
    "def show_loss_plot():\n",
    "    plt.subplot(2, 1, 1) \n",
    "    plt.ylim(0, 0.005)\n",
    "    plt.plot(train_loss_plot, label='train_loss')\n",
    "    plt.plot(val_loss_plot, label='val_loss')\n",
    "    plt.xlabel('epoch')\n",
    "    plt.ylabel('loss')\n",
    "    plt.legend()\n",
    "    plt.show()\n",
    "\n",
    "def show_lr_plot():\n",
    "    plt.subplot(2, 1, 2)\n",
    "    plt.ylim(0, 1e-3)\n",
    "    plt.plot(lr_plot, label='lr')\n",
    "    plt.xlabel('epoch')\n",
    "    plt.ylabel('lr')\n",
    "    plt.legend()\n",
    "    plt.show()"
   ]
  },
  {
   "cell_type": "code",
   "execution_count": 20,
   "id": "a77d23f1",
   "metadata": {
    "scrolled": false
   },
   "outputs": [
    {
     "name": "stdout",
     "output_type": "stream",
     "text": [
      "epoch 199\n",
      "train_loss 0.00010295555494154196\n",
      "val_loss   0.00010771572874619853\n"
     ]
    },
    {
     "data": {
      "image/png": "[encoded data removed]",
      "text/plain": [
       "<Figure size 432x288 with 1 Axes>"
      ]
     },
     "metadata": {
      "needs_background": "light"
     },
     "output_type": "display_data"
    },
    {
     "name": "stdout",
     "output_type": "stream",
     "text": [
      "lr         2.3311762989647066e-06\n"
     ]
    },
    {
     "data": {
      "image/png": "[encoded data removed]",
      "text/plain": [
       "<Figure size 432x288 with 1 Axes>"
      ]
     },
     "metadata": {
      "needs_background": "light"
     },
     "output_type": "display_data"
    }
   ],
   "source": [
    "import matplotlib.pyplot as plt\n",
    "import IPython.display as ipd\n",
    "\n",
    "train_loss_plot, val_loss_plot = [], []\n",
    "lr_plot = []\n",
    "for epoch in range(num_epochs):\n",
    "    # 학습율 저장    \n",
    "    lr_plot.append(optimizer.param_groups[0]['lr'])\n",
    "    # val set으로 평가\n",
    "    val_epoch_loss = run_epoch(val_loader, training=False)\n",
    "    # train set으로 학습\n",
    "    train_epoch_loss = run_epoch(train_loader, training=True)\n",
    "    # 평가값 저장\n",
    "    train_loss_plot.append(train_epoch_loss)\n",
    "    val_loss_plot.append(val_epoch_loss)\n",
    "\n",
    "    # 애니메이션 형식으로 출력\n",
    "    ipd.clear_output(wait=True)\n",
    "    print('epoch' , epoch)\n",
    "    print('train_loss', train_loss_plot[-1])\n",
    "    print('val_loss  ', val_loss_plot[-1])\n",
    "    show_loss_plot()\n",
    "    print('lr        ', lr_plot[-1])\n",
    "    show_lr_plot()\n",
    "    \n",
    "    # 가장 좋게 평가된 모델 저장\n",
    "    if min(val_loss_plot)==val_epoch_loss:\n",
    "        torch.save(model.state_dict(), save_path)"
   ]
  },
  {
   "cell_type": "markdown",
   "id": "5a381500",
   "metadata": {},
   "source": [
    "# Test"
   ]
  },
  {
   "cell_type": "code",
   "execution_count": 21,
   "id": "0bd57d0e",
   "metadata": {},
   "outputs": [
    {
     "data": {
      "text/plain": [
       "<All keys matched successfully>"
      ]
     },
     "execution_count": 21,
     "metadata": {},
     "output_type": "execute_result"
    }
   ],
   "source": [
    "model.eval()\n",
    "model.load_state_dict(torch.load(save_path, map_location=device))"
   ]
  },
  {
   "cell_type": "code",
   "execution_count": 22,
   "id": "93c7a6bd",
   "metadata": {},
   "outputs": [
    {
     "data": {
      "text/plain": [
       "((1850, 60, 4), (1850, 4))"
      ]
     },
     "execution_count": 22,
     "metadata": {},
     "output_type": "execute_result"
    }
   ],
   "source": [
    "test_x = np.stack([data['x'] for data in test_data])\n",
    "test_y = np.stack([data['y'] for data in test_data])\n",
    "test_x.shape, test_y.shape"
   ]
  },
  {
   "cell_type": "code",
   "execution_count": 23,
   "id": "0ec13c7b",
   "metadata": {
    "scrolled": true
   },
   "outputs": [
    {
     "data": {
      "text/plain": [
       "(5, 370)"
      ]
     },
     "execution_count": 23,
     "metadata": {},
     "output_type": "execute_result"
    }
   ],
   "source": [
    "x = torch.tensor(test_x, dtype=torch.float32)\n",
    "with torch.no_grad():\n",
    "    pred = model(x.to(device))\n",
    "    \n",
    "pred = pred.cpu().detach().numpy()\n",
    "pred = pred.reshape(370, 5).T\n",
    "pred.shape"
   ]
  },
  {
   "cell_type": "code",
   "execution_count": 24,
   "id": "e14cae3f",
   "metadata": {},
   "outputs": [
    {
     "data": {
      "text/html": [
       "<div>\n",
       "<style scoped>\n",
       "    .dataframe tbody tr th:only-of-type {\n",
       "        vertical-align: middle;\n",
       "    }\n",
       "\n",
       "    .dataframe tbody tr th {\n",
       "        vertical-align: top;\n",
       "    }\n",
       "\n",
       "    .dataframe thead th {\n",
       "        text-align: right;\n",
       "    }\n",
       "</style>\n",
       "<table border=\"1\" class=\"dataframe\">\n",
       "  <thead>\n",
       "    <tr style=\"text-align: right;\">\n",
       "      <th></th>\n",
       "      <th>Day</th>\n",
       "      <th>000060</th>\n",
       "      <th>000080</th>\n",
       "      <th>000100</th>\n",
       "      <th>000120</th>\n",
       "      <th>000150</th>\n",
       "      <th>000240</th>\n",
       "      <th>000250</th>\n",
       "      <th>000270</th>\n",
       "      <th>000660</th>\n",
       "      <th>...</th>\n",
       "      <th>330860</th>\n",
       "      <th>336260</th>\n",
       "      <th>336370</th>\n",
       "      <th>347860</th>\n",
       "      <th>348150</th>\n",
       "      <th>348210</th>\n",
       "      <th>352820</th>\n",
       "      <th>357780</th>\n",
       "      <th>363280</th>\n",
       "      <th>950130</th>\n",
       "    </tr>\n",
       "  </thead>\n",
       "  <tbody>\n",
       "    <tr>\n",
       "      <th>0</th>\n",
       "      <td>2021-11-01</td>\n",
       "      <td>28726.860881</td>\n",
       "      <td>34012.705088</td>\n",
       "      <td>57491.779327</td>\n",
       "      <td>153761.208057</td>\n",
       "      <td>95828.101039</td>\n",
       "      <td>14434.695244</td>\n",
       "      <td>46384.498477</td>\n",
       "      <td>81399.306655</td>\n",
       "      <td>97831.502557</td>\n",
       "      <td>...</td>\n",
       "      <td>45385.286212</td>\n",
       "      <td>49083.828926</td>\n",
       "      <td>73670.491576</td>\n",
       "      <td>31133.413315</td>\n",
       "      <td>27670.875192</td>\n",
       "      <td>51300.138235</td>\n",
       "      <td>303683.280945</td>\n",
       "      <td>268828.988075</td>\n",
       "      <td>27514.055371</td>\n",
       "      <td>15246.689320</td>\n",
       "    </tr>\n",
       "    <tr>\n",
       "      <th>1</th>\n",
       "      <td>2021-11-02</td>\n",
       "      <td>28719.872236</td>\n",
       "      <td>34085.184336</td>\n",
       "      <td>57458.370924</td>\n",
       "      <td>153258.800507</td>\n",
       "      <td>96348.881721</td>\n",
       "      <td>14423.549175</td>\n",
       "      <td>46414.211392</td>\n",
       "      <td>81572.353840</td>\n",
       "      <td>98094.493151</td>\n",
       "      <td>...</td>\n",
       "      <td>45431.777835</td>\n",
       "      <td>49195.438623</td>\n",
       "      <td>74041.143060</td>\n",
       "      <td>31276.196241</td>\n",
       "      <td>27574.956417</td>\n",
       "      <td>51264.718175</td>\n",
       "      <td>306609.749794</td>\n",
       "      <td>268800.795078</td>\n",
       "      <td>27460.008860</td>\n",
       "      <td>15165.388584</td>\n",
       "    </tr>\n",
       "    <tr>\n",
       "      <th>2</th>\n",
       "      <td>2021-11-03</td>\n",
       "      <td>28718.203306</td>\n",
       "      <td>34151.613712</td>\n",
       "      <td>57426.482439</td>\n",
       "      <td>152817.845345</td>\n",
       "      <td>96871.748567</td>\n",
       "      <td>14419.123530</td>\n",
       "      <td>46447.053552</td>\n",
       "      <td>81736.326218</td>\n",
       "      <td>98447.695374</td>\n",
       "      <td>...</td>\n",
       "      <td>45509.606600</td>\n",
       "      <td>49323.618412</td>\n",
       "      <td>74375.495315</td>\n",
       "      <td>31430.914998</td>\n",
       "      <td>27480.974793</td>\n",
       "      <td>51246.255636</td>\n",
       "      <td>309566.140175</td>\n",
       "      <td>268639.385700</td>\n",
       "      <td>27408.793569</td>\n",
       "      <td>15096.634626</td>\n",
       "    </tr>\n",
       "    <tr>\n",
       "      <th>3</th>\n",
       "      <td>2021-11-04</td>\n",
       "      <td>28725.028038</td>\n",
       "      <td>34201.592207</td>\n",
       "      <td>57397.961617</td>\n",
       "      <td>152407.541871</td>\n",
       "      <td>97481.787205</td>\n",
       "      <td>14414.101839</td>\n",
       "      <td>46496.689320</td>\n",
       "      <td>81900.089979</td>\n",
       "      <td>98832.920194</td>\n",
       "      <td>...</td>\n",
       "      <td>45599.132776</td>\n",
       "      <td>49474.000931</td>\n",
       "      <td>74690.416455</td>\n",
       "      <td>31584.233046</td>\n",
       "      <td>27381.792665</td>\n",
       "      <td>51222.056150</td>\n",
       "      <td>312407.076359</td>\n",
       "      <td>268261.164427</td>\n",
       "      <td>27352.616191</td>\n",
       "      <td>15034.556389</td>\n",
       "    </tr>\n",
       "    <tr>\n",
       "      <th>4</th>\n",
       "      <td>2021-11-05</td>\n",
       "      <td>28728.961945</td>\n",
       "      <td>34239.083529</td>\n",
       "      <td>57377.845049</td>\n",
       "      <td>152012.586594</td>\n",
       "      <td>98324.120045</td>\n",
       "      <td>14415.591955</td>\n",
       "      <td>46564.176679</td>\n",
       "      <td>82080.006599</td>\n",
       "      <td>99250.987172</td>\n",
       "      <td>...</td>\n",
       "      <td>45692.950487</td>\n",
       "      <td>49633.279443</td>\n",
       "      <td>74974.760413</td>\n",
       "      <td>31735.509634</td>\n",
       "      <td>27278.557420</td>\n",
       "      <td>51181.063056</td>\n",
       "      <td>315303.504467</td>\n",
       "      <td>267742.782831</td>\n",
       "      <td>27292.370796</td>\n",
       "      <td>14974.802732</td>\n",
       "    </tr>\n",
       "  </tbody>\n",
       "</table>\n",
       "<p>5 rows × 371 columns</p>\n",
       "</div>"
      ],
      "text/plain": [
       "          Day        000060        000080        000100         000120  \\\n",
       "0  2021-11-01  28726.860881  34012.705088  57491.779327  153761.208057   \n",
       "1  2021-11-02  28719.872236  34085.184336  57458.370924  153258.800507   \n",
       "2  2021-11-03  28718.203306  34151.613712  57426.482439  152817.845345   \n",
       "3  2021-11-04  28725.028038  34201.592207  57397.961617  152407.541871   \n",
       "4  2021-11-05  28728.961945  34239.083529  57377.845049  152012.586594   \n",
       "\n",
       "         000150        000240        000250        000270        000660  ...  \\\n",
       "0  95828.101039  14434.695244  46384.498477  81399.306655  97831.502557  ...   \n",
       "1  96348.881721  14423.549175  46414.211392  81572.353840  98094.493151  ...   \n",
       "2  96871.748567  14419.123530  46447.053552  81736.326218  98447.695374  ...   \n",
       "3  97481.787205  14414.101839  46496.689320  81900.089979  98832.920194  ...   \n",
       "4  98324.120045  14415.591955  46564.176679  82080.006599  99250.987172  ...   \n",
       "\n",
       "         330860        336260        336370        347860        348150  \\\n",
       "0  45385.286212  49083.828926  73670.491576  31133.413315  27670.875192   \n",
       "1  45431.777835  49195.438623  74041.143060  31276.196241  27574.956417   \n",
       "2  45509.606600  49323.618412  74375.495315  31430.914998  27480.974793   \n",
       "3  45599.132776  49474.000931  74690.416455  31584.233046  27381.792665   \n",
       "4  45692.950487  49633.279443  74974.760413  31735.509634  27278.557420   \n",
       "\n",
       "         348210         352820         357780        363280        950130  \n",
       "0  51300.138235  303683.280945  268828.988075  27514.055371  15246.689320  \n",
       "1  51264.718175  306609.749794  268800.795078  27460.008860  15165.388584  \n",
       "2  51246.255636  309566.140175  268639.385700  27408.793569  15096.634626  \n",
       "3  51222.056150  312407.076359  268261.164427  27352.616191  15034.556389  \n",
       "4  51181.063056  315303.504467  267742.782831  27292.370796  14974.802732  \n",
       "\n",
       "[5 rows x 371 columns]"
      ]
     },
     "execution_count": 24,
     "metadata": {},
     "output_type": "execute_result"
    }
   ],
   "source": [
    "def process_submission(index, pred, submission):\n",
    "    for code_id, p in enumerate(pred):\n",
    "        code = stock_list.reset_index().loc[code_id,'종목코드']\n",
    "        submission.loc[index,code] = p * 1e6\n",
    "    return submission\n",
    "\n",
    "sample_submission = pd.read_csv(os.path.join(path,sample_name))\n",
    "for i in range(5): # 11-01 ~ 11-05\n",
    "    # csv에 한 행 넣기\n",
    "    process_submission(i, pred[i], sample_submission)\n",
    "    \n",
    "sample_submission"
   ]
  },
  {
   "cell_type": "code",
   "execution_count": 25,
   "id": "2248b289",
   "metadata": {},
   "outputs": [],
   "source": [
    "# 예측값 저장\n",
    "sample_submission.to_csv(f'{save_path}.csv',index=False)"
   ]
  }
 ],
 "metadata": {
  "kernelspec": {
   "display_name": "Python 3 (ipykernel)",
   "language": "python",
   "name": "python3"
  },
  "language_info": {
   "codemirror_mode": {
    "name": "ipython",
    "version": 3
   },
   "file_extension": ".py",
   "mimetype": "text/x-python",
   "name": "python",
   "nbconvert_exporter": "python",
   "pygments_lexer": "ipython3",
   "version": "3.9.7"
  }
 },
 "nbformat": 4,
 "nbformat_minor": 5
}
