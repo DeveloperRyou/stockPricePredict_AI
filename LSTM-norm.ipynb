{
 "cells": [
  {
   "cell_type": "markdown",
   "id": "e44a69ea",
   "metadata": {},
   "source": [
    "# LSTM\n",
    "## Using stock data of 60 days to predict"
   ]
  },
  {
   "cell_type": "markdown",
   "id": "c9dce7a1",
   "metadata": {},
   "source": [
    "## With Normalization, Volume"
   ]
  },
  {
   "cell_type": "code",
   "execution_count": 1,
   "id": "8c5dc215",
   "metadata": {},
   "outputs": [
    {
     "name": "stderr",
     "output_type": "stream",
     "text": [
      "ERROR: To modify pip, please run the following command:\n",
      "C:\\ProgramData\\Anaconda3\\envs\\envtorch\\python.exe -m pip -q install --upgrade pip\n"
     ]
    }
   ],
   "source": [
    "# install pakages\n",
    "# pip install finance-datareader, tqdm, ...\n",
    "! pip -q install --upgrade pip\n",
    "! pip --disable-pip-version-check -q install bs4\n",
    "! pip --disable-pip-version-check -q install finance-datareader\n",
    "! pip --disable-pip-version-check -q install tqdm\n",
    "! pip --disable-pip-version-check -q install matplotlib\n",
    "# install torch\n",
    "! pip --disable-pip-version-check -q install torch --extra-index-url https://download.pytorch.org/whl/cu113"
   ]
  },
  {
   "cell_type": "markdown",
   "id": "fcd6b905",
   "metadata": {},
   "source": [
    "# Data Processing"
   ]
  },
  {
   "cell_type": "code",
   "execution_count": 2,
   "id": "8a44e948",
   "metadata": {},
   "outputs": [],
   "source": [
    "import os\n",
    "os.environ[\"KMP_DUPLICATE_LIB_OK\"]=\"TRUE\"\n",
    "import pandas as pd\n",
    "import numpy as np\n",
    "import FinanceDataReader as fdr\n",
    "from tqdm import tqdm"
   ]
  },
  {
   "cell_type": "code",
   "execution_count": 3,
   "id": "5fd4b055",
   "metadata": {},
   "outputs": [],
   "source": [
    "# open stock data\n",
    "path = './open'\n",
    "list_name = 'stock_list.csv'\n",
    "sample_name = 'sample_submission.csv'"
   ]
  },
  {
   "cell_type": "code",
   "execution_count": 4,
   "id": "60699fab",
   "metadata": {
    "scrolled": false
   },
   "outputs": [
    {
     "data": {
      "text/html": [
       "<div>\n",
       "<style scoped>\n",
       "    .dataframe tbody tr th:only-of-type {\n",
       "        vertical-align: middle;\n",
       "    }\n",
       "\n",
       "    .dataframe tbody tr th {\n",
       "        vertical-align: top;\n",
       "    }\n",
       "\n",
       "    .dataframe thead th {\n",
       "        text-align: right;\n",
       "    }\n",
       "</style>\n",
       "<table border=\"1\" class=\"dataframe\">\n",
       "  <thead>\n",
       "    <tr style=\"text-align: right;\">\n",
       "      <th></th>\n",
       "      <th>종목명</th>\n",
       "      <th>종목코드</th>\n",
       "      <th>상장시장</th>\n",
       "    </tr>\n",
       "  </thead>\n",
       "  <tbody>\n",
       "    <tr>\n",
       "      <th>0</th>\n",
       "      <td>삼성전자</td>\n",
       "      <td>005930</td>\n",
       "      <td>KOSPI</td>\n",
       "    </tr>\n",
       "    <tr>\n",
       "      <th>1</th>\n",
       "      <td>SK하이닉스</td>\n",
       "      <td>000660</td>\n",
       "      <td>KOSPI</td>\n",
       "    </tr>\n",
       "    <tr>\n",
       "      <th>2</th>\n",
       "      <td>NAVER</td>\n",
       "      <td>035420</td>\n",
       "      <td>KOSPI</td>\n",
       "    </tr>\n",
       "    <tr>\n",
       "      <th>3</th>\n",
       "      <td>카카오</td>\n",
       "      <td>035720</td>\n",
       "      <td>KOSPI</td>\n",
       "    </tr>\n",
       "    <tr>\n",
       "      <th>4</th>\n",
       "      <td>삼성바이오로직스</td>\n",
       "      <td>207940</td>\n",
       "      <td>KOSPI</td>\n",
       "    </tr>\n",
       "    <tr>\n",
       "      <th>...</th>\n",
       "      <td>...</td>\n",
       "      <td>...</td>\n",
       "      <td>...</td>\n",
       "    </tr>\n",
       "    <tr>\n",
       "      <th>365</th>\n",
       "      <td>맘스터치</td>\n",
       "      <td>220630</td>\n",
       "      <td>KOSDAQ</td>\n",
       "    </tr>\n",
       "    <tr>\n",
       "      <th>366</th>\n",
       "      <td>다날</td>\n",
       "      <td>064260</td>\n",
       "      <td>KOSDAQ</td>\n",
       "    </tr>\n",
       "    <tr>\n",
       "      <th>367</th>\n",
       "      <td>제이시스메디칼</td>\n",
       "      <td>287410</td>\n",
       "      <td>KOSDAQ</td>\n",
       "    </tr>\n",
       "    <tr>\n",
       "      <th>368</th>\n",
       "      <td>크리스에프앤씨</td>\n",
       "      <td>110790</td>\n",
       "      <td>KOSDAQ</td>\n",
       "    </tr>\n",
       "    <tr>\n",
       "      <th>369</th>\n",
       "      <td>쎄트렉아이</td>\n",
       "      <td>099320</td>\n",
       "      <td>KOSDAQ</td>\n",
       "    </tr>\n",
       "  </tbody>\n",
       "</table>\n",
       "<p>370 rows × 3 columns</p>\n",
       "</div>"
      ],
      "text/plain": [
       "          종목명    종목코드    상장시장\n",
       "0        삼성전자  005930   KOSPI\n",
       "1      SK하이닉스  000660   KOSPI\n",
       "2       NAVER  035420   KOSPI\n",
       "3         카카오  035720   KOSPI\n",
       "4    삼성바이오로직스  207940   KOSPI\n",
       "..        ...     ...     ...\n",
       "365      맘스터치  220630  KOSDAQ\n",
       "366        다날  064260  KOSDAQ\n",
       "367   제이시스메디칼  287410  KOSDAQ\n",
       "368   크리스에프앤씨  110790  KOSDAQ\n",
       "369     쎄트렉아이  099320  KOSDAQ\n",
       "\n",
       "[370 rows x 3 columns]"
      ]
     },
     "execution_count": 4,
     "metadata": {},
     "output_type": "execute_result"
    }
   ],
   "source": [
    "# print stock data by code\n",
    "stock_list = pd.read_csv(os.path.join(path,list_name))\n",
    "stock_list['종목코드'] = stock_list['종목코드'].apply(lambda x : str(x).zfill(6))\n",
    "stock_list"
   ]
  },
  {
   "cell_type": "code",
   "execution_count": 5,
   "id": "967b2978",
   "metadata": {},
   "outputs": [
    {
     "data": {
      "text/plain": [
       "['Open', 'Low', 'High', 'Close', 'Volume', 'Cross']"
      ]
     },
     "execution_count": 5,
     "metadata": {},
     "output_type": "execute_result"
    }
   ],
   "source": [
    "# 전역변수\n",
    "# 60일의 일일 종가를 기준으로 예측\n",
    "predict_days = 60\n",
    "\n",
    "# 입력값 설정\n",
    "features_basic = ['Open','Low','High','Close','Volume']\n",
    "features_alpha = ['Cross']\n",
    "features = features_basic+features_alpha\n",
    "features"
   ]
  },
  {
   "cell_type": "code",
   "execution_count": 6,
   "id": "3498e2cf",
   "metadata": {},
   "outputs": [],
   "source": [
    "# 주식 가격 가져오는 메소드\n",
    "def get_data(code, start_date, end_date):\n",
    "    stock_data = fdr.DataReader(code, start = start_date, end = end_date).reset_index()\n",
    "    # 토요일, 일요일 제거, Business day로 expand\n",
    "    business_days = pd.DataFrame(pd.date_range(start_date, end_date, freq='B'), columns = ['Date'])\n",
    "    stock_data = pd.merge(business_days, stock_data, how = 'outer')\n",
    "    # Nah를 그 전 종가로 채움\n",
    "    stock_data = stock_data.ffill() \n",
    "    # 그래도 Nah 있다면 Nah를 그 앞 종가로 채움\n",
    "    stock_data = stock_data.bfill() \n",
    "    # 그래도 Nah 있다면 Nah를 0으로 \n",
    "    stock_data = stock_data.fillna(0) \n",
    "    return stock_data"
   ]
  },
  {
   "cell_type": "code",
   "execution_count": 7,
   "id": "ad1acbe5",
   "metadata": {},
   "outputs": [],
   "source": [
    "# 주식 가격 가공하는 메소드\n",
    "def process_data(stock_data):\n",
    "    stock_data = stock_data[features_basic].copy()\n",
    "    stock_linear_data = stock_data.values.reshape(-1,len(features_basic)) # 세로 -> 가로 ( [ [],[],[] ...  ] )\n",
    "\n",
    "    return stock_linear_data\n",
    "\n",
    "# 주식 가격을 x, y 의 dict로 변환\n",
    "# normalization with standard, minmax\n",
    "# price -> standard\n",
    "# volume -> minmax\n",
    "from sklearn.preprocessing import StandardScaler\n",
    "from sklearn.preprocessing import MinMaxScaler\n",
    "def to_xy(time_series):\n",
    "    xy = []\n",
    "    scaler_standard = StandardScaler()\n",
    "    scaler_minmax = MinMaxScaler()\n",
    "    for i in range(predict_days, len(time_series)):\n",
    "        x = time_series[i-predict_days:i]\n",
    "        y = time_series[i,3:4] # 종가만 예측\n",
    "        price_mean = x[:,0:4].mean()\n",
    "        price_std = x[:,0:4].std()\n",
    "        # normalization\n",
    "        x_scaled = np.hstack([scaler_standard.fit_transform(x[:,0:4]), scaler_minmax.fit_transform(x[:,4:5])])\n",
    "        # add golden, dead cross\n",
    "        sum_5 = 0\n",
    "        sum_20 = 0\n",
    "        cross = np.array([0.0]*predict_days)\n",
    "        for day in range(predict_days):\n",
    "            sum_5 += x_scaled[day,3]\n",
    "            sum_20 += x_scaled[day,3]\n",
    "            if day >= 5:\n",
    "                sum_5 -= x_scaled[day-5,3]\n",
    "            if day >= 20:\n",
    "                sum_20 -= x_scaled[day-20,3]\n",
    "            if day >= 19:\n",
    "                cross[day] = (sum_5/5) - (sum_20/20)\n",
    "        x_scaled = np.hstack([x_scaled, cross.reshape(predict_days,1)])\n",
    "        y_scaled = (y - price_mean) / (price_std if price_std!=0 else 1e-64)\n",
    "        xy.append({'x': x_scaled, 'y': y_scaled, 'price_mean': price_mean, 'price_std': price_std})\n",
    "    return xy"
   ]
  },
  {
   "cell_type": "code",
   "execution_count": 8,
   "id": "bbf2464b",
   "metadata": {
    "scrolled": true
   },
   "outputs": [
    {
     "name": "stderr",
     "output_type": "stream",
     "text": [
      "100%|████████████████████████████████████████████████████████████████████████████████| 370/370 [03:01<00:00,  2.04it/s]\n"
     ]
    },
    {
     "data": {
      "text/plain": [
       "111000"
      ]
     },
     "execution_count": 8,
     "metadata": {},
     "output_type": "execute_result"
    }
   ],
   "source": [
    "train_data = []\n",
    "# set date\n",
    "train_start_date = '20210104'\n",
    "train_end_date = '20220522'\n",
    "# make train data\n",
    "for code in tqdm(stock_list['종목코드'].values):\n",
    "    data = get_data(code, train_start_date, train_end_date)\n",
    "    train = process_data(data)\n",
    "    train_data += to_xy(train)\n",
    "len(train_data)"
   ]
  },
  {
   "cell_type": "code",
   "execution_count": 9,
   "id": "a6c617c2",
   "metadata": {
    "scrolled": true
   },
   "outputs": [
    {
     "name": "stderr",
     "output_type": "stream",
     "text": [
      "100%|████████████████████████████████████████████████████████████████████████████████| 370/370 [02:34<00:00,  2.39it/s]\n"
     ]
    },
    {
     "data": {
      "text/plain": [
       "(1850, 1850)"
      ]
     },
     "execution_count": 9,
     "metadata": {},
     "output_type": "execute_result"
    }
   ],
   "source": [
    "val_data, test_data = [], []\n",
    "# set date\n",
    "test_start_date = '20220228'\n",
    "test_end_date = '20220527'\n",
    "# make test data\n",
    "for code in tqdm(stock_list['종목코드'].values):\n",
    "    data = get_data(code, test_start_date, test_end_date)\n",
    "    test = process_data(data)\n",
    "    val_data += to_xy(test)\n",
    "    test_data += to_xy(test)\n",
    "\n",
    "len(val_data), len(test_data)"
   ]
  },
  {
   "cell_type": "code",
   "execution_count": 10,
   "id": "93b02eab",
   "metadata": {
    "scrolled": false
   },
   "outputs": [
    {
     "data": {
      "text/plain": [
       "{'x': array([[-1.15254423e+00, -1.25474486e+00, -2.25755634e-01,\n",
       "         -3.39611573e-01,  3.43540618e-01,  0.00000000e+00],\n",
       "        [-9.19445399e-01, -6.41606010e-01, -3.86626633e-01,\n",
       "          1.89727136e-03,  3.01349928e-01,  0.00000000e+00],\n",
       "        [-2.58998704e-01, -4.22627850e-01, -1.93581435e-01,\n",
       "         -6.43174990e-01,  3.87181848e-01,  0.00000000e+00],\n",
       "        [-4.53247732e-01, -1.59854057e-01, -2.90104034e-01,\n",
       "         -3.77557000e-01,  2.67148202e-01,  0.00000000e+00],\n",
       "        [-2.58998704e-01, -2.84671609e-02,  1.57599955e+00,\n",
       "          1.86122320e+00,  6.02281902e-01,  0.00000000e+00],\n",
       "        [ 2.34393827e+00,  2.81824893e+00,  3.76384513e+00,\n",
       "          2.69602260e+00,  1.00000000e+00,  0.00000000e+00],\n",
       "        [ 2.46048769e+00,  2.07372318e+00,  2.02643834e+00,\n",
       "          2.54424089e+00,  4.70980992e-01,  0.00000000e+00],\n",
       "        [ 2.26623866e+00,  2.64306640e+00,  1.96208994e+00,\n",
       "          2.20273204e+00,  3.10668298e-01,  0.00000000e+00],\n",
       "        [ 1.83889080e+00,  2.46788387e+00,  1.57599955e+00,\n",
       "          2.20273204e+00,  1.87705014e-01,  0.00000000e+00],\n",
       "        [ 2.26623866e+00,  2.16131444e+00,  2.15513514e+00,\n",
       "          1.55765978e+00,  2.77152736e-01,  0.00000000e+00],\n",
       "        [ 1.02304488e+00,  4.53284792e-01,  7.07296156e-01,\n",
       "          4.19296970e-01,  4.01657230e-01,  0.00000000e+00],\n",
       "        [ 2.07198963e-01,  2.34306632e-01,  9.32515554e-01,\n",
       "          1.17820551e+00,  3.59297503e-01,  0.00000000e+00],\n",
       "        [ 1.95544022e+00,  1.50437996e+00,  1.25425755e+00,\n",
       "          1.25409637e+00,  1.72671619e-01,  0.00000000e+00],\n",
       "        [ 1.37269313e+00,  1.50437996e+00,  1.12556075e+00,\n",
       "          1.59560521e+00,  1.74030066e-01,  0.00000000e+00],\n",
       "        [ 1.95544022e+00,  1.63576686e+00,  1.47947695e+00,\n",
       "          1.10231466e+00,  2.44487328e-01,  0.00000000e+00],\n",
       "        [ 1.17844410e+00,  1.41678870e+00,  1.54382535e+00,\n",
       "          2.08889576e+00,  1.98693228e-01,  0.00000000e+00],\n",
       "        [ 1.87774060e+00,  1.50437996e+00,  1.31860595e+00,\n",
       "          1.06436923e+00,  2.73938835e-01,  0.00000000e+00],\n",
       "        [ 1.02304488e+00,  1.11021927e+00,  8.35992955e-01,\n",
       "          6.46969532e-01,  1.88074861e-01,  0.00000000e+00],\n",
       "        [-2.97848510e-01,  5.91241033e-02,  1.60334762e-01,\n",
       "         -7.39935829e-02,  2.57173320e-01,  0.00000000e+00],\n",
       "        [ 2.07198963e-01, -4.66423482e-01, -3.27104363e-02,\n",
       "         -7.19065844e-01,  3.55750702e-01, -4.11707884e-01],\n",
       "        [-8.80595594e-01, -9.04379803e-01, -5.47497631e-01,\n",
       "         -3.39611573e-01,  2.08712135e-01, -8.97409351e-01],\n",
       "        [ 5.17997408e-02,  2.78102264e-01,  4.17728359e-01,\n",
       "          1.91624407e-01,  1.86537096e-01, -1.08144467e+00],\n",
       "        [ 3.23748380e-01,  1.46715368e-01,  9.59863624e-02,\n",
       "          2.67515261e-01,  1.33285734e-01, -1.20287004e+00],\n",
       "        [-1.81299093e-01, -4.22627850e-01, -4.18800832e-01,\n",
       "         -5.29338708e-01,  1.59460824e-01, -1.28634998e+00],\n",
       "        [-3.36698315e-01, -2.47445321e-01, -3.54452433e-01,\n",
       "         -1.49884437e-01,  8.14896414e-02, -1.07195832e+00],\n",
       "        [-6.47496760e-02, -2.84671609e-02, -2.90104034e-01,\n",
       "         -3.39611573e-01,  4.71984029e-02, -9.20176607e-01],\n",
       "        [ 1.29499352e-02, -1.59854057e-01, -9.70588357e-02,\n",
       "         -4.53447854e-01,  1.17857962e-01, -8.99306622e-01],\n",
       "        [-5.30947343e-01, -6.41606010e-01, -8.04891229e-01,\n",
       "         -8.70847552e-01,  1.44896678e-01, -9.73300205e-01],\n",
       "        [-5.30947343e-01, -6.41606010e-01, -8.04891229e-01,\n",
       "         -8.70847552e-01,  1.44896678e-01, -8.87922994e-01],\n",
       "        [-5.30947343e-01, -6.41606010e-01, -8.04891229e-01,\n",
       "         -8.70847552e-01,  1.44896678e-01, -9.10690251e-01],\n",
       "        [-6.47496760e-02,  1.02919735e-01, -1.93581435e-01,\n",
       "          1.15733553e-01,  1.51301525e-01, -8.04443055e-01],\n",
       "        [ 2.07198963e-01,  4.97080424e-01,  2.89031560e-01,\n",
       "          3.81351542e-01,  1.12580553e-01, -5.97640477e-01],\n",
       "        [-2.58998704e-02, -2.84671609e-02, -2.90104034e-01,\n",
       "         -2.63720718e-01,  8.49326568e-02, -4.00324256e-01],\n",
       "        [-2.97848510e-01, -4.22627850e-01, -4.83149232e-01,\n",
       "         -6.81120417e-01,  1.23314818e-01, -2.48542548e-01],\n",
       "        [-6.47496760e-01, -9.04379803e-01, -7.40542829e-01,\n",
       "         -4.91393281e-01,  1.81183861e-01, -9.29662964e-02],\n",
       "        [-6.47496760e-02, -3.78832218e-01, -2.90104034e-01,\n",
       "         -6.43174990e-01,  1.75324851e-01, -1.08144467e-01],\n",
       "        [-1.07484462e+00, -8.60584171e-01, -7.08368630e-01,\n",
       "         -7.19065844e-01,  1.13905066e-01, -2.39056191e-01],\n",
       "        [-8.41745788e-01, -7.72992907e-01, -4.83149232e-01,\n",
       "         -7.19065844e-01,  1.92962710e-01, -2.61823447e-01],\n",
       "        [ 1.29499352e-02, -2.84671609e-02,  9.59863624e-02,\n",
       "          5.33133251e-01,  2.86356695e-01, -4.93290552e-02],\n",
       "        [-4.53247732e-01, -4.66423482e-01, -5.47497631e-01,\n",
       "         -5.29338708e-01,  3.41831489e-01, -6.64044974e-02],\n",
       "        [-4.53247732e-01, -4.66423482e-01, -5.47497631e-01,\n",
       "         -5.29338708e-01,  3.41831489e-01, -3.41508844e-02],\n",
       "        [ 4.40297797e-01, -2.84671609e-02,  6.38121627e-02,\n",
       "         -1.11939010e-01,  2.77996281e-01,  1.02452653e-01],\n",
       "        [-1.81299093e-01, -1.16058425e-01, -3.54452433e-01,\n",
       "          3.98426985e-02,  1.04942524e-01,  2.65617990e-01],\n",
       "        [-5.30947343e-01, -3.78832218e-01, -6.11846031e-01,\n",
       "         -5.67284135e-01,  1.61705875e-01,  4.74317839e-02],\n",
       "        [-1.11369443e+00, -8.60584171e-01, -8.04891229e-01,\n",
       "         -6.81120417e-01,  1.12909362e-01,  4.36372412e-02],\n",
       "        [-4.14397926e-01, -6.41606010e-01, -6.76194430e-01,\n",
       "         -7.19065844e-01,  7.64620128e-02,  2.46645276e-02],\n",
       "        [-9.97145011e-01, -1.07956233e+00, -1.03011063e+00,\n",
       "         -9.46738406e-01,  1.75336010e-01, -1.17630824e-01],\n",
       "        [-6.08646954e-01, -1.03576670e+00, -8.37065428e-01,\n",
       "         -1.13646554e+00,  1.06928899e-01, -3.39611573e-01],\n",
       "        [-1.15254423e+00, -9.04379803e-01, -8.37065428e-01,\n",
       "         -7.19065844e-01,  1.54969385e-01, -3.77557000e-01],\n",
       "        [-3.36698315e-01, -2.91240953e-01, -5.15323431e-01,\n",
       "         -4.15502427e-01,  2.42171077e-02, -3.47200658e-01],\n",
       "        [-4.53247732e-01, -5.54014746e-01, -7.08368630e-01,\n",
       "         -7.94956698e-01,  2.68254238e-02, -3.16844316e-01],\n",
       "        [-6.86346566e-01, -4.22627850e-01, -6.76194430e-01,\n",
       "         -4.15502427e-01,  8.49494461e-03, -1.70754422e-01],\n",
       "        [-4.53247732e-01, -4.66423482e-01, -7.08368630e-01,\n",
       "         -6.05229562e-01,  0.00000000e+00, -4.74317839e-02],\n",
       "        [-4.53247732e-01, -2.03649689e-01, -4.18800832e-01,\n",
       "         -3.77557000e-01,  8.84596695e-02,  5.69181407e-03],\n",
       "        [-7.25196371e-01, -5.54014746e-01, -8.37065428e-01,\n",
       "         -7.57011271e-01,  5.39463444e-02, -4.93290552e-02],\n",
       "        [-7.64046177e-01, -5.97810378e-01, -9.01413828e-01,\n",
       "         -7.19065844e-01,  1.32860486e-02, -3.03563417e-02],\n",
       "        [-5.30947343e-01, -5.54014746e-01, -7.08368630e-01,\n",
       "         -7.94956698e-01,  2.12854481e-02, -1.02452653e-01],\n",
       "        [-1.15254423e+00, -1.03576670e+00, -1.12663323e+00,\n",
       "         -1.09852011e+00,  8.00890878e-02, -1.82138050e-01],\n",
       "        [-1.15254423e+00, -9.91971067e-01, -9.65762227e-01,\n",
       "         -1.02262926e+00,  3.98276428e-02, -2.33364377e-01],\n",
       "        [-9.97145011e-01, -9.04379803e-01, -1.12663323e+00,\n",
       "         -9.08792979e-01,  1.55136757e-02, -2.44748005e-01]]),\n",
       " 'y': array([-0.87107598]),\n",
       " 'price_mean': 84007.08333333333,\n",
       " 'price_std': 2763.34486200852}"
      ]
     },
     "execution_count": 10,
     "metadata": {},
     "output_type": "execute_result"
    }
   ],
   "source": [
    "train_data[0]"
   ]
  },
  {
   "cell_type": "code",
   "execution_count": 11,
   "id": "507b19ab",
   "metadata": {
    "scrolled": false
   },
   "outputs": [
    {
     "name": "stderr",
     "output_type": "stream",
     "text": [
      "100%|█████████████████████████████████████████████████████████████████████| 111000/111000 [00:00<00:00, 1425336.82it/s]\n"
     ]
    }
   ],
   "source": [
    "idx = 0\n",
    "plt_data=[]\n",
    "for data in tqdm(train_data):\n",
    "    idx += 1\n",
    "    if idx%1000 != 0:\n",
    "        continue\n",
    "    for items in data['x']:\n",
    "        for i in range(4):\n",
    "            plt_data.append(items[i])"
   ]
  },
  {
   "cell_type": "code",
   "execution_count": 12,
   "id": "bce45476",
   "metadata": {},
   "outputs": [
    {
     "data": {
      "image/png": "[encoded data removed]",
      "text/plain": [
       "<Figure size 864x432 with 1 Axes>"
      ]
     },
     "metadata": {
      "needs_background": "light"
     },
     "output_type": "display_data"
    }
   ],
   "source": [
    "import matplotlib.pyplot as plt\n",
    "plt.figure(figsize=(12, 6))\n",
    "plt.hist(plt_data, bins=500, label='train_data')\n",
    "plt.title('Standardization', fontsize=16)\n",
    "plt.show()"
   ]
  },
  {
   "cell_type": "markdown",
   "id": "9dd5420b",
   "metadata": {},
   "source": [
    "# Torch"
   ]
  },
  {
   "cell_type": "code",
   "execution_count": 13,
   "id": "fde29f58",
   "metadata": {},
   "outputs": [],
   "source": [
    "import torch\n",
    "import torch.nn as nn\n",
    "import torch.optim as optim\n",
    "from torch.utils.data import Dataset, DataLoader"
   ]
  },
  {
   "cell_type": "code",
   "execution_count": 14,
   "id": "4ed212b9",
   "metadata": {},
   "outputs": [],
   "source": [
    "# Data to torchData\n",
    "class StockDataset(Dataset):\n",
    "    def __init__(self, data):\n",
    "        self.data = data\n",
    "            \n",
    "    def __len__(self):\n",
    "        return len(self.data)\n",
    "    \n",
    "    def __getitem__(self, i):\n",
    "        x = torch.tensor(self.data[i]['x'], dtype=torch.float32)\n",
    "        y = torch.tensor(self.data[i]['y'], dtype=torch.float32)\n",
    "        return x, y"
   ]
  },
  {
   "cell_type": "code",
   "execution_count": 15,
   "id": "f8886741",
   "metadata": {},
   "outputs": [],
   "source": [
    "trainset = StockDataset(train_data)\n",
    "valset = StockDataset(val_data)"
   ]
  },
  {
   "cell_type": "markdown",
   "id": "f66c9740",
   "metadata": {},
   "source": [
    "# Learning Model"
   ]
  },
  {
   "cell_type": "code",
   "execution_count": 16,
   "id": "54ce4499",
   "metadata": {},
   "outputs": [],
   "source": [
    "class StockPredictor(nn.Module):\n",
    "    def __init__(self, n, h, dropout):\n",
    "        super().__init__()\n",
    "        \n",
    "        self.lstm = nn.LSTM(\n",
    "            input_size=len(features), # 종가 input\n",
    "            hidden_size=h, \n",
    "            num_layers=n,\n",
    "            dropout=dropout,\n",
    "            bidirectional=False, \n",
    "            batch_first=True\n",
    "        )\n",
    "        \n",
    "        self.linear = nn.Sequential(\n",
    "            nn.Flatten(), # [[1],[2],[3]...] -> [1,2,3..]\n",
    "            nn.ReLU(),\n",
    "            nn.Linear(h, 1) # [1,2,3..] -> [X]\n",
    "        )\n",
    "        \n",
    "    def forward(self, x):\n",
    "        # x : input (batch, seq)\n",
    "        lstm_output, lstm_hidden = self.lstm(x)\n",
    "        # lstm_output : (batch, seq, hidden_nodes)\n",
    "        linear_output = self.linear(lstm_output[:,-1,:]) # 마지막 결과만 이용해서 미래 가격 예측\n",
    "        \n",
    "        return linear_output"
   ]
  },
  {
   "cell_type": "markdown",
   "id": "af01b32d",
   "metadata": {},
   "source": [
    "# Training"
   ]
  },
  {
   "cell_type": "code",
   "execution_count": 17,
   "id": "73406f57",
   "metadata": {},
   "outputs": [
    {
     "data": {
      "text/plain": [
       "device(type='cuda', index=0)"
      ]
     },
     "execution_count": 17,
     "metadata": {},
     "output_type": "execute_result"
    }
   ],
   "source": [
    "# 학습 장치 설정\n",
    "if torch.cuda.is_available():\n",
    "    device = torch.device(\"cuda:0\")\n",
    "else:\n",
    "    device = torch.device(\"cpu\")\n",
    "device"
   ]
  },
  {
   "cell_type": "code",
   "execution_count": 18,
   "id": "59f7e7b9",
   "metadata": {},
   "outputs": [],
   "source": [
    "# 초기값 설정\n",
    "# jupyter 메모리 최대값 설정 변경\n",
    "# jupyter_notebook_config.py -> c.NotebookApp.max_buffer_size =10000000000\n",
    "num_epochs = 500\n",
    "num_workers = 0\n",
    "\n",
    "batch_size = 2048\n",
    "learning_rate = 1e-3\n",
    "dropout_rate = 0.5\n",
    "\n",
    "n = 2\n",
    "h = 8"
   ]
  },
  {
   "cell_type": "code",
   "execution_count": 19,
   "id": "b9f5a373",
   "metadata": {},
   "outputs": [
    {
     "data": {
      "text/plain": [
       "'./models/LSTM_2layers_8nodes_norm/features6_bs2048_lr0.001_dr0.5_date(20210104~20220522).pt'"
      ]
     },
     "execution_count": 19,
     "metadata": {},
     "output_type": "execute_result"
    }
   ],
   "source": [
    "# set name, path to save model\n",
    "model_name = f'LSTM_{n}layers_{h}nodes_norm'\n",
    "model_path = f'./models/'\n",
    "if not os.path.isdir(model_path):\n",
    "    os.mkdir(model_path)\n",
    "if not os.path.isdir(model_path+model_name):\n",
    "    os.mkdir(model_path+model_name)\n",
    "\n",
    "save_path = f'{model_path}{model_name}/features{len(features)}_bs{batch_size}_lr{learning_rate}_dr{dropout_rate}_date({train_start_date}~{train_end_date}).pt'\n",
    "save_path"
   ]
  },
  {
   "cell_type": "code",
   "execution_count": 20,
   "id": "4c66a872",
   "metadata": {},
   "outputs": [],
   "source": [
    "# model, optimizer\n",
    "model = StockPredictor(n, h, dropout_rate).to(device)\n",
    "optimizer = torch.optim.Adam(model.parameters(), lr=learning_rate)\n",
    "# 동적 학습율\n",
    "scheduler = optim.lr_scheduler.LambdaLR(optimizer=optimizer,\n",
    "                                        lr_lambda=lambda epoch: 0.98 ** epoch,\n",
    "                                        last_epoch=-1)"
   ]
  },
  {
   "cell_type": "code",
   "execution_count": 21,
   "id": "7cd4c998",
   "metadata": {},
   "outputs": [],
   "source": [
    "train_loader = torch.utils.data.DataLoader(trainset, batch_size=batch_size, num_workers=num_workers, shuffle=True)\n",
    "val_loader = torch.utils.data.DataLoader(valset, batch_size=batch_size, num_workers=num_workers, shuffle=False)"
   ]
  },
  {
   "cell_type": "code",
   "execution_count": 22,
   "id": "9ec9c2d6",
   "metadata": {},
   "outputs": [],
   "source": [
    "def step(batch, training):\n",
    "    x = batch[0].to(device)\n",
    "    y = batch[1].to(device)\n",
    "    if training:\n",
    "        model.train()\n",
    "        output = model(x)\n",
    "        loss = nn.HuberLoss()(output, y)\n",
    "        loss.backward()\n",
    "        optimizer.step()\n",
    "        optimizer.zero_grad()\n",
    "    else:\n",
    "        model.eval()\n",
    "        with torch.no_grad():\n",
    "            output = model(x)\n",
    "            loss = nn.HuberLoss()(output, y)\n",
    "    return loss.item() * x.shape[0]\n",
    "\n",
    "\n",
    "def run_epoch(loader, training):\n",
    "    total_loss = 0\n",
    "    # 배치 size만큼 학습\n",
    "    for batch in tqdm(loader):\n",
    "        batch_loss = step(batch, training)\n",
    "        total_loss += batch_loss\n",
    "    if training: # 학습율 조정\n",
    "        scheduler.step()\n",
    "    return total_loss/len(loader.dataset)"
   ]
  },
  {
   "cell_type": "code",
   "execution_count": 23,
   "id": "46c043ad",
   "metadata": {},
   "outputs": [],
   "source": [
    "# show plot\n",
    "def show_loss_plot():\n",
    "    plt.subplot(2, 1, 1)\n",
    "    plt.plot(train_loss_plot, label='train_loss')\n",
    "    plt.plot(val_loss_plot, label='val_loss')\n",
    "    plt.xlabel('epoch')\n",
    "    plt.ylabel('loss')\n",
    "    plt.legend()\n",
    "    plt.show()\n",
    "\n",
    "def show_lr_plot():\n",
    "    plt.subplot(2, 1, 2)\n",
    "    plt.plot(lr_plot, label='lr')\n",
    "    plt.xlabel('epoch')\n",
    "    plt.ylabel('lr')\n",
    "    plt.legend()\n",
    "    plt.show()"
   ]
  },
  {
   "cell_type": "code",
   "execution_count": 24,
   "id": "a77d23f1",
   "metadata": {
    "scrolled": false
   },
   "outputs": [
    {
     "name": "stdout",
     "output_type": "stream",
     "text": [
      "epoch 499\n",
      "train_loss 0.11235699401138065\n",
      "val_loss   0.0770522952079773\n"
     ]
    },
    {
     "data": {
      "image/png": "[encoded data removed]",
      "text/plain": [
       "<Figure size 432x288 with 1 Axes>"
      ]
     },
     "metadata": {
      "needs_background": "light"
     },
     "output_type": "display_data"
    },
    {
     "name": "stdout",
     "output_type": "stream",
     "text": [
      "lr         4.186120933211451e-08\n"
     ]
    },
    {
     "data": {
      "image/png": "[encoded data removed]",
      "text/plain": [
       "<Figure size 432x288 with 1 Axes>"
      ]
     },
     "metadata": {
      "needs_background": "light"
     },
     "output_type": "display_data"
    }
   ],
   "source": [
    "import matplotlib.pyplot as plt\n",
    "import IPython.display as ipd\n",
    "\n",
    "train_loss_plot, val_loss_plot = [], []\n",
    "lr_plot = []\n",
    "for epoch in range(num_epochs):\n",
    "    # 학습율 저장    \n",
    "    lr_plot.append(optimizer.param_groups[0]['lr'])\n",
    "    # val set으로 평가\n",
    "    val_epoch_loss = run_epoch(val_loader, training=False)\n",
    "    # train set으로 학습\n",
    "    train_epoch_loss = run_epoch(train_loader, training=True)\n",
    "    # 평가값 저장\n",
    "    train_loss_plot.append(train_epoch_loss)\n",
    "    val_loss_plot.append(val_epoch_loss)\n",
    "\n",
    "    # 애니메이션 형식으로 출력\n",
    "    ipd.clear_output(wait=True)\n",
    "    print('epoch' , epoch)\n",
    "    print('train_loss', train_loss_plot[-1])\n",
    "    print('val_loss  ', val_loss_plot[-1])\n",
    "    show_loss_plot()\n",
    "    print('lr        ', lr_plot[-1])\n",
    "    show_lr_plot()\n",
    "    \n",
    "    # 가장 좋게 평가된 모델 저장\n",
    "    if min(val_loss_plot)==val_epoch_loss:\n",
    "        torch.save(model.state_dict(), save_path)"
   ]
  },
  {
   "cell_type": "markdown",
   "id": "5a381500",
   "metadata": {},
   "source": [
    "# Test"
   ]
  },
  {
   "cell_type": "code",
   "execution_count": 25,
   "id": "0bd57d0e",
   "metadata": {},
   "outputs": [
    {
     "data": {
      "text/plain": [
       "<All keys matched successfully>"
      ]
     },
     "execution_count": 25,
     "metadata": {},
     "output_type": "execute_result"
    }
   ],
   "source": [
    "model.eval()\n",
    "model.load_state_dict(torch.load(save_path, map_location=device))"
   ]
  },
  {
   "cell_type": "code",
   "execution_count": 26,
   "id": "93c7a6bd",
   "metadata": {},
   "outputs": [
    {
     "data": {
      "text/plain": [
       "((1850, 60, 6), (1850, 1), (1850,), (1850,))"
      ]
     },
     "execution_count": 26,
     "metadata": {},
     "output_type": "execute_result"
    }
   ],
   "source": [
    "test_x = np.stack([data['x'] for data in test_data])\n",
    "test_y = np.stack([data['y'] for data in test_data])\n",
    "test_mean = np.stack([data['price_mean'] for data in test_data])\n",
    "test_std = np.stack([data['price_std'] for data in test_data])\n",
    "test_x.shape, test_y.shape, test_mean.shape, test_std.shape"
   ]
  },
  {
   "cell_type": "code",
   "execution_count": 27,
   "id": "0ec13c7b",
   "metadata": {
    "scrolled": true
   },
   "outputs": [
    {
     "data": {
      "text/plain": [
       "(370, 5)"
      ]
     },
     "execution_count": 27,
     "metadata": {},
     "output_type": "execute_result"
    }
   ],
   "source": [
    "x = torch.tensor(test_x, dtype=torch.float32)\n",
    "with torch.no_grad():\n",
    "    pred = model(x.to(device))\n",
    "    \n",
    "pred = pred.cpu().detach().numpy()\n",
    "pred = pred.reshape(-1)*test_std + test_mean\n",
    "\n",
    "pred = pred.reshape(370, 5)\n",
    "pred.shape"
   ]
  },
  {
   "cell_type": "code",
   "execution_count": 35,
   "id": "e14cae3f",
   "metadata": {},
   "outputs": [
    {
     "data": {
      "text/html": [
       "<div>\n",
       "<style scoped>\n",
       "    .dataframe tbody tr th:only-of-type {\n",
       "        vertical-align: middle;\n",
       "    }\n",
       "\n",
       "    .dataframe tbody tr th {\n",
       "        vertical-align: top;\n",
       "    }\n",
       "\n",
       "    .dataframe thead th {\n",
       "        text-align: right;\n",
       "    }\n",
       "</style>\n",
       "<table border=\"1\" class=\"dataframe\">\n",
       "  <thead>\n",
       "    <tr style=\"text-align: right;\">\n",
       "      <th></th>\n",
       "      <th>Index</th>\n",
       "      <th>2022-05-23</th>\n",
       "      <th>2022-05-24</th>\n",
       "      <th>2022-05-25</th>\n",
       "      <th>2022-05-26</th>\n",
       "      <th>2022-05-27</th>\n",
       "    </tr>\n",
       "    <tr>\n",
       "      <th>zfill_Index</th>\n",
       "      <th></th>\n",
       "      <th></th>\n",
       "      <th></th>\n",
       "      <th></th>\n",
       "      <th></th>\n",
       "      <th></th>\n",
       "    </tr>\n",
       "  </thead>\n",
       "  <tbody>\n",
       "    <tr>\n",
       "      <th>000060</th>\n",
       "      <td>60</td>\n",
       "      <td>39122.195660</td>\n",
       "      <td>39654.598444</td>\n",
       "      <td>39758.100550</td>\n",
       "      <td>40702.768949</td>\n",
       "      <td>39972.613510</td>\n",
       "    </tr>\n",
       "    <tr>\n",
       "      <th>000080</th>\n",
       "      <td>80</td>\n",
       "      <td>35500.238451</td>\n",
       "      <td>35192.890033</td>\n",
       "      <td>34946.256702</td>\n",
       "      <td>35632.005503</td>\n",
       "      <td>36072.666318</td>\n",
       "    </tr>\n",
       "    <tr>\n",
       "      <th>000100</th>\n",
       "      <td>100</td>\n",
       "      <td>58358.562109</td>\n",
       "      <td>59274.166500</td>\n",
       "      <td>59124.617653</td>\n",
       "      <td>59551.273892</td>\n",
       "      <td>59800.737511</td>\n",
       "    </tr>\n",
       "    <tr>\n",
       "      <th>000120</th>\n",
       "      <td>120</td>\n",
       "      <td>124104.943910</td>\n",
       "      <td>122835.948538</td>\n",
       "      <td>125311.481727</td>\n",
       "      <td>125546.252912</td>\n",
       "      <td>127358.507963</td>\n",
       "    </tr>\n",
       "    <tr>\n",
       "      <th>000150</th>\n",
       "      <td>150</td>\n",
       "      <td>79480.728696</td>\n",
       "      <td>80421.187685</td>\n",
       "      <td>79849.727533</td>\n",
       "      <td>80371.520023</td>\n",
       "      <td>80525.007509</td>\n",
       "    </tr>\n",
       "    <tr>\n",
       "      <th>...</th>\n",
       "      <td>...</td>\n",
       "      <td>...</td>\n",
       "      <td>...</td>\n",
       "      <td>...</td>\n",
       "      <td>...</td>\n",
       "      <td>...</td>\n",
       "    </tr>\n",
       "    <tr>\n",
       "      <th>348210</th>\n",
       "      <td>348210</td>\n",
       "      <td>68205.714936</td>\n",
       "      <td>68455.325615</td>\n",
       "      <td>66559.849515</td>\n",
       "      <td>67016.500289</td>\n",
       "      <td>66612.696617</td>\n",
       "    </tr>\n",
       "    <tr>\n",
       "      <th>352820</th>\n",
       "      <td>352820</td>\n",
       "      <td>218155.065735</td>\n",
       "      <td>219927.677763</td>\n",
       "      <td>215531.744246</td>\n",
       "      <td>219124.599477</td>\n",
       "      <td>214798.961485</td>\n",
       "    </tr>\n",
       "    <tr>\n",
       "      <th>357780</th>\n",
       "      <td>357780</td>\n",
       "      <td>262203.455389</td>\n",
       "      <td>267811.214951</td>\n",
       "      <td>261177.617235</td>\n",
       "      <td>259828.943477</td>\n",
       "      <td>268249.086297</td>\n",
       "    </tr>\n",
       "    <tr>\n",
       "      <th>363280</th>\n",
       "      <td>363280</td>\n",
       "      <td>24609.816526</td>\n",
       "      <td>24441.395039</td>\n",
       "      <td>24339.453566</td>\n",
       "      <td>24451.448219</td>\n",
       "      <td>24566.338118</td>\n",
       "    </tr>\n",
       "    <tr>\n",
       "      <th>950130</th>\n",
       "      <td>950130</td>\n",
       "      <td>17346.000337</td>\n",
       "      <td>17217.219639</td>\n",
       "      <td>16857.293543</td>\n",
       "      <td>16742.418872</td>\n",
       "      <td>16243.327221</td>\n",
       "    </tr>\n",
       "  </tbody>\n",
       "</table>\n",
       "<p>370 rows × 6 columns</p>\n",
       "</div>"
      ],
      "text/plain": [
       "              Index     2022-05-23     2022-05-24     2022-05-25  \\\n",
       "zfill_Index                                                        \n",
       "000060           60   39122.195660   39654.598444   39758.100550   \n",
       "000080           80   35500.238451   35192.890033   34946.256702   \n",
       "000100          100   58358.562109   59274.166500   59124.617653   \n",
       "000120          120  124104.943910  122835.948538  125311.481727   \n",
       "000150          150   79480.728696   80421.187685   79849.727533   \n",
       "...             ...            ...            ...            ...   \n",
       "348210       348210   68205.714936   68455.325615   66559.849515   \n",
       "352820       352820  218155.065735  219927.677763  215531.744246   \n",
       "357780       357780  262203.455389  267811.214951  261177.617235   \n",
       "363280       363280   24609.816526   24441.395039   24339.453566   \n",
       "950130       950130   17346.000337   17217.219639   16857.293543   \n",
       "\n",
       "                2022-05-26     2022-05-27  \n",
       "zfill_Index                                \n",
       "000060        40702.768949   39972.613510  \n",
       "000080        35632.005503   36072.666318  \n",
       "000100        59551.273892   59800.737511  \n",
       "000120       125546.252912  127358.507963  \n",
       "000150        80371.520023   80525.007509  \n",
       "...                    ...            ...  \n",
       "348210        67016.500289   66612.696617  \n",
       "352820       219124.599477  214798.961485  \n",
       "357780       259828.943477  268249.086297  \n",
       "363280        24451.448219   24566.338118  \n",
       "950130        16742.418872   16243.327221  \n",
       "\n",
       "[370 rows x 6 columns]"
      ]
     },
     "execution_count": 35,
     "metadata": {},
     "output_type": "execute_result"
    }
   ],
   "source": [
    "import datetime as dt\n",
    "\n",
    "def process_submission(code_id, pred, submission):\n",
    "    code = stock_list.reset_index().loc[code_id,'종목코드']\n",
    "    for idx in range(5):\n",
    "        dt_date = dt.datetime.strptime(test_end_date, \"%Y%m%d\") + dt.timedelta(days=idx - 4)\n",
    "        submission.loc[code, dt_date.strftime('%Y-%m-%d')] = pred[idx]\n",
    "        if code == '031390' or code == '036490':\n",
    "            submission.loc[code, dt_date.strftime('%Y-%m-%d')] = 0\n",
    "\n",
    "sample_submission = pd.read_csv(os.path.join(path,sample_name))\n",
    "sample_submission['zfill_Index'] = sample_submission['Index'].apply(lambda x : str(x).zfill(6))\n",
    "sample_submission = sample_submission.set_index(keys=['zfill_Index'], inplace=False, drop=True)\n",
    "for i in range(len(pred)): # stocks\n",
    "    # csv에 한 행 넣기\n",
    "    process_submission(i, pred[i], sample_submission)\n",
    "\n",
    "sample_submission"
   ]
  },
  {
   "cell_type": "code",
   "execution_count": 36,
   "id": "2248b289",
   "metadata": {},
   "outputs": [],
   "source": [
    "# 예측값 저장\n",
    "sample_submission.to_csv(f'{save_path}.csv',index=False)"
   ]
  }
 ],
 "metadata": {
  "kernelspec": {
   "display_name": "Python 3 (ipykernel)",
   "language": "python",
   "name": "python3"
  },
  "language_info": {
   "codemirror_mode": {
    "name": "ipython",
    "version": 3
   },
   "file_extension": ".py",
   "mimetype": "text/x-python",
   "name": "python",
   "nbconvert_exporter": "python",
   "pygments_lexer": "ipython3",
   "version": "3.9.7"
  }
 },
 "nbformat": 4,
 "nbformat_minor": 5
}
