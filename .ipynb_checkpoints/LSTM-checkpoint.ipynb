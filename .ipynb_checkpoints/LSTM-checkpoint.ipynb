{
 "cells": [
  {
   "cell_type": "markdown",
   "id": "e44a69ea",
   "metadata": {},
   "source": [
    "# LSTM\n",
    "## Using stock data of 60 days to predict"
   ]
  },
  {
   "cell_type": "code",
   "execution_count": 1,
   "id": "8c5dc215",
   "metadata": {},
   "outputs": [
    {
     "name": "stderr",
     "output_type": "stream",
     "text": [
      "WARNING: Ignoring invalid distribution -ip (c:\\programdata\\anaconda3\\envs\\envtorch\\lib\\site-packages)\n",
      "WARNING: Ignoring invalid distribution -ip (c:\\programdata\\anaconda3\\envs\\envtorch\\lib\\site-packages)\n",
      "WARNING: Ignoring invalid distribution -ip (c:\\programdata\\anaconda3\\envs\\envtorch\\lib\\site-packages)\n",
      "    WARNING: Ignoring invalid distribution -ip (c:\\programdata\\anaconda3\\envs\\envtorch\\lib\\site-packages)\n",
      "ERROR: Could not install packages due to an OSError: [WinError 5] 액세스가 거부되었습니다: 'c:\\\\programdata\\\\anaconda3\\\\envs\\\\envtorch\\\\lib\\\\site-packages\\\\pip-22.0.4.dist-info\\\\entry_points.txt'\n",
      "Consider using the `--user` option or check the permissions.\n",
      "\n",
      "WARNING: Ignoring invalid distribution -ip (c:\\programdata\\anaconda3\\envs\\envtorch\\lib\\site-packages)\n",
      "WARNING: Ignoring invalid distribution -ip (c:\\programdata\\anaconda3\\envs\\envtorch\\lib\\site-packages)\n",
      "WARNING: Ignoring invalid distribution -ip (c:\\programdata\\anaconda3\\envs\\envtorch\\lib\\site-packages)\n",
      "WARNING: You are using pip version 22.0.4; however, version 22.1.1 is available.\n",
      "You should consider upgrading via the 'C:\\ProgramData\\Anaconda3\\envs\\envtorch\\python.exe -m pip install --upgrade pip' command.\n",
      "WARNING: Ignoring invalid distribution -ip (c:\\programdata\\anaconda3\\envs\\envtorch\\lib\\site-packages)\n",
      "WARNING: Ignoring invalid distribution - (c:\\programdata\\anaconda3\\envs\\envtorch\\lib\\site-packages)\n",
      "WARNING: Ignoring invalid distribution -ip (c:\\programdata\\anaconda3\\envs\\envtorch\\lib\\site-packages)\n",
      "WARNING: Ignoring invalid distribution - (c:\\programdata\\anaconda3\\envs\\envtorch\\lib\\site-packages)\n",
      "WARNING: Ignoring invalid distribution -ip (c:\\programdata\\anaconda3\\envs\\envtorch\\lib\\site-packages)\n",
      "WARNING: Ignoring invalid distribution - (c:\\programdata\\anaconda3\\envs\\envtorch\\lib\\site-packages)\n",
      "WARNING: Ignoring invalid distribution -ip (c:\\programdata\\anaconda3\\envs\\envtorch\\lib\\site-packages)\n",
      "WARNING: Ignoring invalid distribution - (c:\\programdata\\anaconda3\\envs\\envtorch\\lib\\site-packages)\n",
      "WARNING: Ignoring invalid distribution -ip (c:\\programdata\\anaconda3\\envs\\envtorch\\lib\\site-packages)\n",
      "WARNING: Ignoring invalid distribution - (c:\\programdata\\anaconda3\\envs\\envtorch\\lib\\site-packages)\n",
      "WARNING: Ignoring invalid distribution -ip (c:\\programdata\\anaconda3\\envs\\envtorch\\lib\\site-packages)\n",
      "WARNING: Ignoring invalid distribution - (c:\\programdata\\anaconda3\\envs\\envtorch\\lib\\site-packages)\n",
      "WARNING: Ignoring invalid distribution -ip (c:\\programdata\\anaconda3\\envs\\envtorch\\lib\\site-packages)\n",
      "WARNING: Ignoring invalid distribution - (c:\\programdata\\anaconda3\\envs\\envtorch\\lib\\site-packages)\n",
      "WARNING: Ignoring invalid distribution -ip (c:\\programdata\\anaconda3\\envs\\envtorch\\lib\\site-packages)\n",
      "WARNING: Ignoring invalid distribution - (c:\\programdata\\anaconda3\\envs\\envtorch\\lib\\site-packages)\n",
      "WARNING: Ignoring invalid distribution -ip (c:\\programdata\\anaconda3\\envs\\envtorch\\lib\\site-packages)\n",
      "WARNING: Ignoring invalid distribution - (c:\\programdata\\anaconda3\\envs\\envtorch\\lib\\site-packages)\n",
      "WARNING: Ignoring invalid distribution -ip (c:\\programdata\\anaconda3\\envs\\envtorch\\lib\\site-packages)\n",
      "WARNING: Ignoring invalid distribution - (c:\\programdata\\anaconda3\\envs\\envtorch\\lib\\site-packages)\n",
      "WARNING: Ignoring invalid distribution -ip (c:\\programdata\\anaconda3\\envs\\envtorch\\lib\\site-packages)\n",
      "WARNING: Ignoring invalid distribution - (c:\\programdata\\anaconda3\\envs\\envtorch\\lib\\site-packages)\n",
      "WARNING: Ignoring invalid distribution -ip (c:\\programdata\\anaconda3\\envs\\envtorch\\lib\\site-packages)\n",
      "WARNING: Ignoring invalid distribution - (c:\\programdata\\anaconda3\\envs\\envtorch\\lib\\site-packages)\n",
      "WARNING: Ignoring invalid distribution -ip (c:\\programdata\\anaconda3\\envs\\envtorch\\lib\\site-packages)\n",
      "WARNING: Ignoring invalid distribution - (c:\\programdata\\anaconda3\\envs\\envtorch\\lib\\site-packages)\n",
      "WARNING: Ignoring invalid distribution -ip (c:\\programdata\\anaconda3\\envs\\envtorch\\lib\\site-packages)\n",
      "WARNING: Ignoring invalid distribution - (c:\\programdata\\anaconda3\\envs\\envtorch\\lib\\site-packages)\n",
      "WARNING: Ignoring invalid distribution -ip (c:\\programdata\\anaconda3\\envs\\envtorch\\lib\\site-packages)\n",
      "WARNING: Ignoring invalid distribution - (c:\\programdata\\anaconda3\\envs\\envtorch\\lib\\site-packages)\n"
     ]
    }
   ],
   "source": [
    "# install pakages\n",
    "# pip install finance-datareader, tqdm, ...\n",
    "! pip -q install --upgrade pip\n",
    "! pip --disable-pip-version-check -q install bs4\n",
    "! pip --disable-pip-version-check -q install finance-datareader\n",
    "! pip --disable-pip-version-check -q install tqdm\n",
    "! pip --disable-pip-version-check -q install matplotlib\n",
    "# install torch\n",
    "! pip --disable-pip-version-check -q install torch --extra-index-url https://download.pytorch.org/whl/cu113"
   ]
  },
  {
   "cell_type": "markdown",
   "id": "fcd6b905",
   "metadata": {},
   "source": [
    "# Data Processing"
   ]
  },
  {
   "cell_type": "code",
   "execution_count": 2,
   "id": "8a44e948",
   "metadata": {},
   "outputs": [],
   "source": [
    "import os\n",
    "os.environ[\"KMP_DUPLICATE_LIB_OK\"]=\"TRUE\"\n",
    "import pandas as pd\n",
    "import numpy as np\n",
    "import FinanceDataReader as fdr\n",
    "from tqdm import tqdm"
   ]
  },
  {
   "cell_type": "code",
   "execution_count": 3,
   "id": "5fd4b055",
   "metadata": {},
   "outputs": [],
   "source": [
    "# open stock data\n",
    "path = './open'\n",
    "list_name = 'stock_list.csv'\n",
    "sample_name = 'sample_submission.csv'"
   ]
  },
  {
   "cell_type": "code",
   "execution_count": 4,
   "id": "60699fab",
   "metadata": {
    "scrolled": true
   },
   "outputs": [],
   "source": [
    "# print stock data by code\n",
    "stock_list = pd.read_csv(os.path.join(path,list_name))\n",
    "stock_list['종목코드'] = stock_list['종목코드'].apply(lambda x : str(x).zfill(6))"
   ]
  },
  {
   "cell_type": "code",
   "execution_count": 5,
   "id": "967b2978",
   "metadata": {},
   "outputs": [],
   "source": [
    "# 전역변수\n",
    "# 60일의 일일 종가를 기준으로 예측\n",
    "predict_days = 60\n",
    "\n",
    "# 입력값 설정\n",
    "features = ['Open','Low','High','Close'] # 종가 가져오기\n",
    "norm_factors = {'Open':1e6,'Low':1e6,'High':1e6,'Close':1e6} # 100만으로 나누기"
   ]
  },
  {
   "cell_type": "code",
   "execution_count": 6,
   "id": "3498e2cf",
   "metadata": {},
   "outputs": [],
   "source": [
    "# 주식 가격 가져오는 메소드\n",
    "def get_data(code, start_date, end_date):\n",
    "    stock_data = fdr.DataReader(code, start = start_date, end = end_date).reset_index()\n",
    "    # 토요일, 일요일 제거, Business day로 expand\n",
    "    business_days = pd.DataFrame(pd.date_range(start_date, end_date, freq='B'), columns = ['Date'])\n",
    "    stock_data = pd.merge(business_days, stock_data, how = 'outer')\n",
    "    # Nah를 그 전 종가로 채움\n",
    "    stock_data = stock_data.ffill() \n",
    "    # 그래도 Nah 있다면 Nah를 그 앞 종가로 채움\n",
    "    stock_data = stock_data.bfill() \n",
    "    # 그래도 Nah 있다면 Nah를 0으로 \n",
    "    stock_data = stock_data.fillna(0) \n",
    "    return stock_data"
   ]
  },
  {
   "cell_type": "code",
   "execution_count": 7,
   "id": "ad1acbe5",
   "metadata": {},
   "outputs": [],
   "source": [
    "# 주식 가격 가공하는 메소드\n",
    "def process_data(stock_data):\n",
    "    stock_data = stock_data[features].copy()\n",
    "    for column in stock_data.columns:\n",
    "        stock_data[column] /= norm_factors[column]\n",
    "    stock_linear_data = stock_data.values.reshape(-1,len(features)) # 세로 -> 가로 ( [ [],[],[] ...  ] )\n",
    "\n",
    "    return stock_linear_data\n",
    "\n",
    "# 주식 가격을 x, y 의 dict로 변환\n",
    "def to_xy(time_series):\n",
    "    xy = []\n",
    "    for i in range(predict_days, len(time_series)):\n",
    "        x = time_series[i-predict_days:i]\n",
    "        y = time_series[i] # 종가만 예측\n",
    "        xy.append({'x': x, 'y': y})\n",
    "    return xy"
   ]
  },
  {
   "cell_type": "code",
   "execution_count": 8,
   "id": "bbf2464b",
   "metadata": {
    "scrolled": true
   },
   "outputs": [
    {
     "name": "stderr",
     "output_type": "stream",
     "text": [
      "100%|████████████████████████████████████████████████████████████████████████████████| 370/370 [01:20<00:00,  4.58it/s]\n"
     ]
    }
   ],
   "source": [
    "train_data = []\n",
    "# set date\n",
    "train_start_date = '20210104'\n",
    "train_end_date = '20220522'\n",
    "# make train data\n",
    "for code in tqdm(stock_list['종목코드'].values):\n",
    "    data = get_data(code, train_start_date, train_end_date)\n",
    "    train = process_data(data)\n",
    "    train_data += to_xy(train)"
   ]
  },
  {
   "cell_type": "code",
   "execution_count": 9,
   "id": "65d829f7",
   "metadata": {},
   "outputs": [
    {
     "name": "stderr",
     "output_type": "stream",
     "text": [
      "100%|████████████████████████████████████████████████████████████████████████████████| 370/370 [01:19<00:00,  4.63it/s]\n"
     ]
    },
    {
     "data": {
      "text/plain": [
       "(111000, 1850, 1850)"
      ]
     },
     "execution_count": 9,
     "metadata": {},
     "output_type": "execute_result"
    }
   ],
   "source": [
    "val_data, test_data = [], []\n",
    "# set date\n",
    "test_start_date = '20220228'\n",
    "test_end_date = '20220527'\n",
    "# make test data\n",
    "for code in tqdm(stock_list['종목코드'].values):\n",
    "    data = get_data(code, test_start_date, test_end_date)\n",
    "    test = process_data(data)\n",
    "    val_data += to_xy(test)\n",
    "    test_data += to_xy(test)\n",
    "\n",
    "len(train_data), len(val_data), len(test_data)"
   ]
  },
  {
   "cell_type": "markdown",
   "id": "9dd5420b",
   "metadata": {},
   "source": [
    "# Torch"
   ]
  },
  {
   "cell_type": "code",
   "execution_count": 11,
   "id": "fde29f58",
   "metadata": {},
   "outputs": [],
   "source": [
    "import torch\n",
    "import torch.nn as nn\n",
    "import torch.optim as optim\n",
    "from torch.utils.data import Dataset, DataLoader"
   ]
  },
  {
   "cell_type": "code",
   "execution_count": 12,
   "id": "4ed212b9",
   "metadata": {},
   "outputs": [],
   "source": [
    "# Data to torchData\n",
    "class StockDataset(Dataset):\n",
    "    def __init__(self, data):\n",
    "        self.data = data\n",
    "            \n",
    "    def __len__(self):\n",
    "        return len(self.data)\n",
    "    \n",
    "    def __getitem__(self, i):\n",
    "        x = torch.tensor(self.data[i]['x'], dtype=torch.float32)\n",
    "        y = torch.tensor(self.data[i]['y'], dtype=torch.float32)\n",
    "        return x, y"
   ]
  },
  {
   "cell_type": "code",
   "execution_count": 13,
   "id": "f8886741",
   "metadata": {},
   "outputs": [],
   "source": [
    "trainset = StockDataset(train_data)\n",
    "valset = StockDataset(val_data)"
   ]
  },
  {
   "cell_type": "markdown",
   "id": "f66c9740",
   "metadata": {},
   "source": [
    "# Learning Model"
   ]
  },
  {
   "cell_type": "code",
   "execution_count": 14,
   "id": "54ce4499",
   "metadata": {},
   "outputs": [],
   "source": [
    "class StockPredictor(nn.Module):\n",
    "    def __init__(self, n, h, dropout):\n",
    "        super().__init__()\n",
    "        \n",
    "        self.lstm = nn.LSTM(\n",
    "            input_size=len(features), # 종가 input\n",
    "            hidden_size=h, \n",
    "            num_layers=n,\n",
    "            dropout=dropout,\n",
    "            bidirectional=False, \n",
    "            batch_first=True\n",
    "        )\n",
    "        \n",
    "        self.linear = nn.Sequential(\n",
    "            nn.Flatten(), # [[1],[2],[3]...] -> [1,2,3..]\n",
    "            nn.ReLU(),\n",
    "            nn.Linear(h, 1) # [1,2,3..] -> [X]\n",
    "        )\n",
    "        \n",
    "    def forward(self, x):\n",
    "        # x : input (batch, seq)\n",
    "        lstm_output, lstm_hidden = self.lstm(x)\n",
    "        # lstm_output : (batch, seq, hidden_nodes)\n",
    "        linear_output = self.linear(lstm_output[:,-1,:]) # 마지막 결과만 이용해서 미래 가격 예측\n",
    "        \n",
    "        return linear_output"
   ]
  },
  {
   "cell_type": "markdown",
   "id": "af01b32d",
   "metadata": {},
   "source": [
    "# Training"
   ]
  },
  {
   "cell_type": "code",
   "execution_count": 15,
   "id": "73406f57",
   "metadata": {},
   "outputs": [
    {
     "data": {
      "text/plain": [
       "device(type='cuda', index=0)"
      ]
     },
     "execution_count": 15,
     "metadata": {},
     "output_type": "execute_result"
    }
   ],
   "source": [
    "# 학습 장치 설정\n",
    "if torch.cuda.is_available():\n",
    "    device = torch.device(\"cuda:0\")\n",
    "else:\n",
    "    device = torch.device(\"cpu\")\n",
    "device"
   ]
  },
  {
   "cell_type": "code",
   "execution_count": 16,
   "id": "59f7e7b9",
   "metadata": {},
   "outputs": [],
   "source": [
    "# 초기값 설정\n",
    "# jupyter 메모리 최대값 설정 변경\n",
    "# jupyter_notebook_config.py -> c.NotebookApp.max_buffer_size =10000000000\n",
    "num_epochs = 500\n",
    "num_workers = 0\n",
    "\n",
    "batch_size = 2048\n",
    "learning_rate = 1e-3\n",
    "dropout_rate = 0.5\n",
    "\n",
    "n = 2\n",
    "h = 8"
   ]
  },
  {
   "cell_type": "code",
   "execution_count": 17,
   "id": "b9f5a373",
   "metadata": {},
   "outputs": [
    {
     "data": {
      "text/plain": [
       "'./models/LSTM_2layers_8nodes/features4_bs2048_lr0.001_dr0.5_date(20210104~20220522).pt'"
      ]
     },
     "execution_count": 17,
     "metadata": {},
     "output_type": "execute_result"
    }
   ],
   "source": [
    "# set name, path to save model\n",
    "model_name = f'LSTM_{n}layers_{h}nodes'\n",
    "model_path = f'./models/'\n",
    "if not os.path.isdir(model_path):\n",
    "    os.mkdir(model_path)\n",
    "if not os.path.isdir(model_path+model_name):\n",
    "    os.mkdir(model_path+model_name)\n",
    "\n",
    "save_path = f'{model_path}{model_name}/features{len(features)}_bs{batch_size}_lr{learning_rate}_dr{dropout_rate}_date({train_start_date}~{train_end_date}).pt'\n",
    "save_path"
   ]
  },
  {
   "cell_type": "code",
   "execution_count": 18,
   "id": "4c66a872",
   "metadata": {},
   "outputs": [],
   "source": [
    "# model, optimizer\n",
    "model = StockPredictor(n, h, dropout_rate).to(device)\n",
    "optimizer = torch.optim.Adam(model.parameters(), lr=learning_rate)\n",
    "# 동적 학습율\n",
    "scheduler = optim.lr_scheduler.LambdaLR(optimizer=optimizer,\n",
    "                                        lr_lambda=lambda epoch: 0.98 ** epoch,\n",
    "                                        last_epoch=-1)"
   ]
  },
  {
   "cell_type": "code",
   "execution_count": 19,
   "id": "7cd4c998",
   "metadata": {},
   "outputs": [],
   "source": [
    "train_loader = torch.utils.data.DataLoader(trainset, batch_size=batch_size, num_workers=num_workers, shuffle=True)\n",
    "val_loader = torch.utils.data.DataLoader(valset, batch_size=batch_size, num_workers=num_workers, shuffle=False)"
   ]
  },
  {
   "cell_type": "code",
   "execution_count": 20,
   "id": "9ec9c2d6",
   "metadata": {},
   "outputs": [],
   "source": [
    "def step(batch, training):\n",
    "    x = batch[0].to(device)\n",
    "    y = batch[1].to(device)\n",
    "    if training:\n",
    "        model.train()\n",
    "        output = model(x)\n",
    "        loss = nn.HuberLoss()(output, y)\n",
    "        loss.backward()\n",
    "        optimizer.step()\n",
    "        optimizer.zero_grad()\n",
    "    else:\n",
    "        model.eval()\n",
    "        with torch.no_grad():\n",
    "            output = model(x)\n",
    "            loss = nn.HuberLoss()(output, y)\n",
    "    return loss.item() * x.shape[0]\n",
    "\n",
    "\n",
    "def run_epoch(loader, training):\n",
    "    total_loss = 0\n",
    "    # 배치 size만큼 학습\n",
    "    for batch in tqdm(loader):\n",
    "        batch_loss = step(batch, training)\n",
    "        total_loss += batch_loss\n",
    "    if training: # 학습율 조정\n",
    "        scheduler.step()\n",
    "    return total_loss/len(loader.dataset)"
   ]
  },
  {
   "cell_type": "code",
   "execution_count": 21,
   "id": "46c043ad",
   "metadata": {},
   "outputs": [],
   "source": [
    "# show plot\n",
    "def show_loss_plot():\n",
    "    plt.subplot(2, 1, 1) \n",
    "    plt.ylim(0, 0.005)\n",
    "    plt.plot(train_loss_plot, label='train_loss')\n",
    "    plt.plot(val_loss_plot, label='val_loss')\n",
    "    plt.xlabel('epoch')\n",
    "    plt.ylabel('loss')\n",
    "    plt.legend()\n",
    "    plt.show()\n",
    "\n",
    "def show_lr_plot():\n",
    "    plt.subplot(2, 1, 2)\n",
    "    plt.ylim(0, 1e-3)\n",
    "    plt.plot(lr_plot, label='lr')\n",
    "    plt.xlabel('epoch')\n",
    "    plt.ylabel('lr')\n",
    "    plt.legend()\n",
    "    plt.show()"
   ]
  },
  {
   "cell_type": "code",
   "execution_count": 22,
   "id": "a77d23f1",
   "metadata": {
    "scrolled": false
   },
   "outputs": [
    {
     "name": "stdout",
     "output_type": "stream",
     "text": [
      "epoch 499\n",
      "train_loss 9.455659757536073e-05\n",
      "val_loss   2.082054561469704e-05\n"
     ]
    },
    {
     "data": {
      "image/png": "[encoded data removed]",
      "text/plain": [
       "<Figure size 432x288 with 1 Axes>"
      ]
     },
     "metadata": {
      "needs_background": "light"
     },
     "output_type": "display_data"
    },
    {
     "name": "stdout",
     "output_type": "stream",
     "text": [
      "lr         4.186120933211451e-08\n"
     ]
    },
    {
     "data": {
      "image/png": "[encoded data removed]",
      "text/plain": [
       "<Figure size 432x288 with 1 Axes>"
      ]
     },
     "metadata": {
      "needs_background": "light"
     },
     "output_type": "display_data"
    }
   ],
   "source": [
    "import matplotlib.pyplot as plt\n",
    "import IPython.display as ipd\n",
    "\n",
    "train_loss_plot, val_loss_plot = [], []\n",
    "lr_plot = []\n",
    "for epoch in range(num_epochs):\n",
    "    # 학습율 저장    \n",
    "    lr_plot.append(optimizer.param_groups[0]['lr'])\n",
    "    # val set으로 평가\n",
    "    val_epoch_loss = run_epoch(val_loader, training=False)\n",
    "    # train set으로 학습\n",
    "    train_epoch_loss = run_epoch(train_loader, training=True)\n",
    "    # 평가값 저장\n",
    "    train_loss_plot.append(train_epoch_loss)\n",
    "    val_loss_plot.append(val_epoch_loss)\n",
    "\n",
    "    # 애니메이션 형식으로 출력\n",
    "    ipd.clear_output(wait=True)\n",
    "    print('epoch' , epoch)\n",
    "    print('train_loss', train_loss_plot[-1])\n",
    "    print('val_loss  ', val_loss_plot[-1])\n",
    "    show_loss_plot()\n",
    "    print('lr        ', lr_plot[-1])\n",
    "    show_lr_plot()\n",
    "    \n",
    "    # 가장 좋게 평가된 모델 저장\n",
    "    if min(val_loss_plot)==val_epoch_loss:\n",
    "        torch.save(model.state_dict(), save_path)"
   ]
  },
  {
   "cell_type": "markdown",
   "id": "5a381500",
   "metadata": {},
   "source": [
    "# Test"
   ]
  },
  {
   "cell_type": "code",
   "execution_count": 23,
   "id": "0bd57d0e",
   "metadata": {},
   "outputs": [
    {
     "data": {
      "text/plain": [
       "<All keys matched successfully>"
      ]
     },
     "execution_count": 23,
     "metadata": {},
     "output_type": "execute_result"
    }
   ],
   "source": [
    "model.eval()\n",
    "model.load_state_dict(torch.load(save_path, map_location=device))"
   ]
  },
  {
   "cell_type": "code",
   "execution_count": 24,
   "id": "93c7a6bd",
   "metadata": {},
   "outputs": [
    {
     "data": {
      "text/plain": [
       "((1850, 60, 4), (1850, 4))"
      ]
     },
     "execution_count": 24,
     "metadata": {},
     "output_type": "execute_result"
    }
   ],
   "source": [
    "test_x = np.stack([data['x'] for data in test_data])\n",
    "test_y = np.stack([data['y'] for data in test_data])\n",
    "test_x.shape, test_y.shape"
   ]
  },
  {
   "cell_type": "code",
   "execution_count": 28,
   "id": "0ec13c7b",
   "metadata": {
    "scrolled": true
   },
   "outputs": [
    {
     "data": {
      "text/plain": [
       "(370, 5)"
      ]
     },
     "execution_count": 28,
     "metadata": {},
     "output_type": "execute_result"
    }
   ],
   "source": [
    "x = torch.tensor(test_x, dtype=torch.float32)\n",
    "with torch.no_grad():\n",
    "    pred = model(x.to(device))\n",
    "    \n",
    "pred = pred.cpu().detach().numpy()\n",
    "pred = pred.reshape(370, 5)\n",
    "pred.shape"
   ]
  },
  {
   "cell_type": "code",
   "execution_count": 55,
   "id": "b8d69c15",
   "metadata": {},
   "outputs": [
    {
     "data": {
      "text/plain": [
       "datetime.datetime(2022, 2, 28, 0, 0)"
      ]
     },
     "execution_count": 55,
     "metadata": {},
     "output_type": "execute_result"
    }
   ],
   "source": [
    "import datetime as dt\n",
    "dt.datetime.strptime(test_start_date, \"%Y%m%d\")"
   ]
  },
  {
   "cell_type": "code",
   "execution_count": 48,
   "id": "e14cae3f",
   "metadata": {},
   "outputs": [
    {
     "ename": "ValueError",
     "evalue": "",
     "output_type": "error",
     "traceback": [
      "\u001b[1;31m---------------------------------------------------------------------------\u001b[0m",
      "\u001b[1;31mKeyError\u001b[0m                                  Traceback (most recent call last)",
      "File \u001b[1;32mC:\\ProgramData\\Anaconda3\\lib\\site-packages\\pandas\\core\\indexes\\base.py:3621\u001b[0m, in \u001b[0;36mIndex.get_loc\u001b[1;34m(self, key, method, tolerance)\u001b[0m\n\u001b[0;32m   3620\u001b[0m \u001b[38;5;28;01mtry\u001b[39;00m:\n\u001b[1;32m-> 3621\u001b[0m     \u001b[38;5;28;01mreturn\u001b[39;00m \u001b[38;5;28;43mself\u001b[39;49m\u001b[38;5;241;43m.\u001b[39;49m\u001b[43m_engine\u001b[49m\u001b[38;5;241;43m.\u001b[39;49m\u001b[43mget_loc\u001b[49m\u001b[43m(\u001b[49m\u001b[43mcasted_key\u001b[49m\u001b[43m)\u001b[49m\n\u001b[0;32m   3622\u001b[0m \u001b[38;5;28;01mexcept\u001b[39;00m \u001b[38;5;167;01mKeyError\u001b[39;00m \u001b[38;5;28;01mas\u001b[39;00m err:\n",
      "File \u001b[1;32mC:\\ProgramData\\Anaconda3\\lib\\site-packages\\pandas\\_libs\\index.pyx:136\u001b[0m, in \u001b[0;36mpandas._libs.index.IndexEngine.get_loc\u001b[1;34m()\u001b[0m\n",
      "File \u001b[1;32mC:\\ProgramData\\Anaconda3\\lib\\site-packages\\pandas\\_libs\\index.pyx:163\u001b[0m, in \u001b[0;36mpandas._libs.index.IndexEngine.get_loc\u001b[1;34m()\u001b[0m\n",
      "File \u001b[1;32mpandas\\_libs\\hashtable_class_helper.pxi:5198\u001b[0m, in \u001b[0;36mpandas._libs.hashtable.PyObjectHashTable.get_item\u001b[1;34m()\u001b[0m\n",
      "File \u001b[1;32mpandas\\_libs\\hashtable_class_helper.pxi:5206\u001b[0m, in \u001b[0;36mpandas._libs.hashtable.PyObjectHashTable.get_item\u001b[1;34m()\u001b[0m\n",
      "\u001b[1;31mKeyError\u001b[0m: 0",
      "\nThe above exception was the direct cause of the following exception:\n",
      "\u001b[1;31mKeyError\u001b[0m                                  Traceback (most recent call last)",
      "File \u001b[1;32mC:\\ProgramData\\Anaconda3\\lib\\site-packages\\pandas\\core\\series.py:1085\u001b[0m, in \u001b[0;36mSeries.__setitem__\u001b[1;34m(self, key, value)\u001b[0m\n\u001b[0;32m   1084\u001b[0m \u001b[38;5;28;01mtry\u001b[39;00m:\n\u001b[1;32m-> 1085\u001b[0m     \u001b[38;5;28;43mself\u001b[39;49m\u001b[38;5;241;43m.\u001b[39;49m\u001b[43m_set_with_engine\u001b[49m\u001b[43m(\u001b[49m\u001b[43mkey\u001b[49m\u001b[43m,\u001b[49m\u001b[43m \u001b[49m\u001b[43mvalue\u001b[49m\u001b[43m)\u001b[49m\n\u001b[0;32m   1086\u001b[0m \u001b[38;5;28;01mexcept\u001b[39;00m (\u001b[38;5;167;01mKeyError\u001b[39;00m, \u001b[38;5;167;01mValueError\u001b[39;00m):\n",
      "File \u001b[1;32mC:\\ProgramData\\Anaconda3\\lib\\site-packages\\pandas\\core\\series.py:1146\u001b[0m, in \u001b[0;36mSeries._set_with_engine\u001b[1;34m(self, key, value)\u001b[0m\n\u001b[0;32m   1145\u001b[0m \u001b[38;5;28;01mdef\u001b[39;00m \u001b[38;5;21m_set_with_engine\u001b[39m(\u001b[38;5;28mself\u001b[39m, key, value) \u001b[38;5;241m-\u001b[39m\u001b[38;5;241m>\u001b[39m \u001b[38;5;28;01mNone\u001b[39;00m:\n\u001b[1;32m-> 1146\u001b[0m     loc \u001b[38;5;241m=\u001b[39m \u001b[38;5;28;43mself\u001b[39;49m\u001b[38;5;241;43m.\u001b[39;49m\u001b[43mindex\u001b[49m\u001b[38;5;241;43m.\u001b[39;49m\u001b[43mget_loc\u001b[49m\u001b[43m(\u001b[49m\u001b[43mkey\u001b[49m\u001b[43m)\u001b[49m\n\u001b[0;32m   1148\u001b[0m     \u001b[38;5;66;03m# this is equivalent to self._values[key] = value\u001b[39;00m\n",
      "File \u001b[1;32mC:\\ProgramData\\Anaconda3\\lib\\site-packages\\pandas\\core\\indexes\\base.py:3623\u001b[0m, in \u001b[0;36mIndex.get_loc\u001b[1;34m(self, key, method, tolerance)\u001b[0m\n\u001b[0;32m   3622\u001b[0m \u001b[38;5;28;01mexcept\u001b[39;00m \u001b[38;5;167;01mKeyError\u001b[39;00m \u001b[38;5;28;01mas\u001b[39;00m err:\n\u001b[1;32m-> 3623\u001b[0m     \u001b[38;5;28;01mraise\u001b[39;00m \u001b[38;5;167;01mKeyError\u001b[39;00m(key) \u001b[38;5;28;01mfrom\u001b[39;00m \u001b[38;5;21;01merr\u001b[39;00m\n\u001b[0;32m   3624\u001b[0m \u001b[38;5;28;01mexcept\u001b[39;00m \u001b[38;5;167;01mTypeError\u001b[39;00m:\n\u001b[0;32m   3625\u001b[0m     \u001b[38;5;66;03m# If we have a listlike key, _check_indexing_error will raise\u001b[39;00m\n\u001b[0;32m   3626\u001b[0m     \u001b[38;5;66;03m#  InvalidIndexError. Otherwise we fall through and re-raise\u001b[39;00m\n\u001b[0;32m   3627\u001b[0m     \u001b[38;5;66;03m#  the TypeError.\u001b[39;00m\n",
      "\u001b[1;31mKeyError\u001b[0m: 0",
      "\nDuring handling of the above exception, another exception occurred:\n",
      "\u001b[1;31mValueError\u001b[0m                                Traceback (most recent call last)",
      "Input \u001b[1;32mIn [48]\u001b[0m, in \u001b[0;36m<cell line: 9>\u001b[1;34m()\u001b[0m\n\u001b[0;32m      8\u001b[0m sample_submission \u001b[38;5;241m=\u001b[39m sample_submission\u001b[38;5;241m.\u001b[39mset_index(keys\u001b[38;5;241m=\u001b[39m[\u001b[38;5;124m'\u001b[39m\u001b[38;5;124mIndex\u001b[39m\u001b[38;5;124m'\u001b[39m], inplace\u001b[38;5;241m=\u001b[39m\u001b[38;5;28;01mFalse\u001b[39;00m, drop\u001b[38;5;241m=\u001b[39m\u001b[38;5;28;01mTrue\u001b[39;00m)\n\u001b[0;32m      9\u001b[0m \u001b[38;5;28;01mfor\u001b[39;00m i \u001b[38;5;129;01min\u001b[39;00m \u001b[38;5;28mrange\u001b[39m(\u001b[38;5;28mlen\u001b[39m(pred)): \u001b[38;5;66;03m# stocks\u001b[39;00m\n\u001b[0;32m     10\u001b[0m     \u001b[38;5;66;03m# csv에 한 행 넣기\u001b[39;00m\n\u001b[1;32m---> 11\u001b[0m     \u001b[43mprocess_submission\u001b[49m\u001b[43m(\u001b[49m\u001b[43mi\u001b[49m\u001b[43m,\u001b[49m\u001b[43m \u001b[49m\u001b[43mpred\u001b[49m\u001b[43m[\u001b[49m\u001b[43mi\u001b[49m\u001b[43m]\u001b[49m\u001b[43m,\u001b[49m\u001b[43m \u001b[49m\u001b[43msample_submission\u001b[49m\u001b[43m)\u001b[49m\n\u001b[0;32m     13\u001b[0m sample_submission\n",
      "Input \u001b[1;32mIn [48]\u001b[0m, in \u001b[0;36mprocess_submission\u001b[1;34m(code_id, pred, submission)\u001b[0m\n\u001b[0;32m      2\u001b[0m code \u001b[38;5;241m=\u001b[39m stock_list\u001b[38;5;241m.\u001b[39mreset_index()\u001b[38;5;241m.\u001b[39mloc[code_id,\u001b[38;5;124m'\u001b[39m\u001b[38;5;124m종목코드\u001b[39m\u001b[38;5;124m'\u001b[39m]\n\u001b[0;32m      3\u001b[0m \u001b[38;5;28;01mfor\u001b[39;00m idx \u001b[38;5;129;01min\u001b[39;00m \u001b[38;5;28mrange\u001b[39m(\u001b[38;5;241m5\u001b[39m):\n\u001b[1;32m----> 4\u001b[0m     submission\u001b[38;5;241m.\u001b[39mloc[code][idx] \u001b[38;5;241m=\u001b[39m pred[idx] \u001b[38;5;241m*\u001b[39m \u001b[38;5;241m1e6\u001b[39m\n",
      "File \u001b[1;32mC:\\ProgramData\\Anaconda3\\lib\\site-packages\\pandas\\core\\series.py:1101\u001b[0m, in \u001b[0;36mSeries.__setitem__\u001b[1;34m(self, key, value)\u001b[0m\n\u001b[0;32m   1091\u001b[0m         warnings\u001b[38;5;241m.\u001b[39mwarn(\n\u001b[0;32m   1092\u001b[0m             \u001b[38;5;124m\"\u001b[39m\u001b[38;5;124mTreating integers as positional in Series.__setitem__ \u001b[39m\u001b[38;5;124m\"\u001b[39m\n\u001b[0;32m   1093\u001b[0m             \u001b[38;5;124m\"\u001b[39m\u001b[38;5;124mwith a Float64Index is deprecated. In a future version, \u001b[39m\u001b[38;5;124m\"\u001b[39m\n\u001b[1;32m   (...)\u001b[0m\n\u001b[0;32m   1098\u001b[0m             stacklevel\u001b[38;5;241m=\u001b[39mfind_stack_level(),\n\u001b[0;32m   1099\u001b[0m         )\n\u001b[0;32m   1100\u001b[0m     \u001b[38;5;66;03m# this is equivalent to self._values[key] = value\u001b[39;00m\n\u001b[1;32m-> 1101\u001b[0m     \u001b[38;5;28;43mself\u001b[39;49m\u001b[38;5;241;43m.\u001b[39;49m\u001b[43m_mgr\u001b[49m\u001b[38;5;241;43m.\u001b[39;49m\u001b[43msetitem_inplace\u001b[49m\u001b[43m(\u001b[49m\u001b[43mkey\u001b[49m\u001b[43m,\u001b[49m\u001b[43m \u001b[49m\u001b[43mvalue\u001b[49m\u001b[43m)\u001b[49m\n\u001b[0;32m   1102\u001b[0m \u001b[38;5;28;01melse\u001b[39;00m:\n\u001b[0;32m   1103\u001b[0m     \u001b[38;5;66;03m# GH#12862 adding a new key to the Series\u001b[39;00m\n\u001b[0;32m   1104\u001b[0m     \u001b[38;5;28mself\u001b[39m\u001b[38;5;241m.\u001b[39mloc[key] \u001b[38;5;241m=\u001b[39m value\n",
      "File \u001b[1;32mC:\\ProgramData\\Anaconda3\\lib\\site-packages\\pandas\\core\\internals\\base.py:188\u001b[0m, in \u001b[0;36mSingleDataManager.setitem_inplace\u001b[1;34m(self, indexer, value)\u001b[0m\n\u001b[0;32m    184\u001b[0m \u001b[38;5;66;03m# EAs will do this validation in their own __setitem__ methods.\u001b[39;00m\n\u001b[0;32m    185\u001b[0m \u001b[38;5;28;01mif\u001b[39;00m \u001b[38;5;28misinstance\u001b[39m(arr, np\u001b[38;5;241m.\u001b[39mndarray):\n\u001b[0;32m    186\u001b[0m     \u001b[38;5;66;03m# Note: checking for ndarray instead of np.dtype means we exclude\u001b[39;00m\n\u001b[0;32m    187\u001b[0m     \u001b[38;5;66;03m#  dt64/td64, which do their own validation.\u001b[39;00m\n\u001b[1;32m--> 188\u001b[0m     value \u001b[38;5;241m=\u001b[39m \u001b[43mnp_can_hold_element\u001b[49m\u001b[43m(\u001b[49m\u001b[43marr\u001b[49m\u001b[38;5;241;43m.\u001b[39;49m\u001b[43mdtype\u001b[49m\u001b[43m,\u001b[49m\u001b[43m \u001b[49m\u001b[43mvalue\u001b[49m\u001b[43m)\u001b[49m\n\u001b[0;32m    190\u001b[0m arr[indexer] \u001b[38;5;241m=\u001b[39m value\n",
      "File \u001b[1;32mC:\\ProgramData\\Anaconda3\\lib\\site-packages\\pandas\\core\\dtypes\\cast.py:2228\u001b[0m, in \u001b[0;36mnp_can_hold_element\u001b[1;34m(dtype, element)\u001b[0m\n\u001b[0;32m   2225\u001b[0m         \u001b[38;5;28;01mraise\u001b[39;00m \u001b[38;5;167;01mValueError\u001b[39;00m\n\u001b[0;32m   2227\u001b[0m     \u001b[38;5;66;03m# Anything other than integer we cannot hold\u001b[39;00m\n\u001b[1;32m-> 2228\u001b[0m     \u001b[38;5;28;01mraise\u001b[39;00m \u001b[38;5;167;01mValueError\u001b[39;00m\n\u001b[0;32m   2229\u001b[0m \u001b[38;5;28;01melif\u001b[39;00m dtype\u001b[38;5;241m.\u001b[39mitemsize \u001b[38;5;241m<\u001b[39m tipo\u001b[38;5;241m.\u001b[39mitemsize:\n\u001b[0;32m   2230\u001b[0m     \u001b[38;5;28;01mif\u001b[39;00m is_integer(element):\n\u001b[0;32m   2231\u001b[0m         \u001b[38;5;66;03m# e.g. test_setitem_series_int8 if we have a python int 1\u001b[39;00m\n\u001b[0;32m   2232\u001b[0m         \u001b[38;5;66;03m#  tipo may be np.int32, despite the fact that it will fit\u001b[39;00m\n\u001b[0;32m   2233\u001b[0m         \u001b[38;5;66;03m#  in smaller int dtypes.\u001b[39;00m\n",
      "\u001b[1;31mValueError\u001b[0m: "
     ]
    }
   ],
   "source": [
    "import datetime as dt\n",
    "\n",
    "def process_submission(code_id, pred, submission):\n",
    "    code = stock_list.reset_index().loc[code_id,'종목코드']\n",
    "    for idx in range(5):\n",
    "        dt.datetime.strptime(test_start_date, \"%Y%m%d\")\n",
    "        submission.loc[code, idx] = pred[idx] * 1e6\n",
    "\n",
    "sample_submission = pd.read_csv(os.path.join(path,sample_name))\n",
    "sample_submission['Index'] = sample_submission['Index'].apply(lambda x : str(x).zfill(6))\n",
    "sample_submission = sample_submission.set_index(keys=['Index'], inplace=False, drop=True)\n",
    "for i in range(len(pred)): # stocks\n",
    "    # csv에 한 행 넣기\n",
    "    process_submission(i, pred[i], sample_submission)\n",
    "    \n",
    "sample_submission"
   ]
  },
  {
   "cell_type": "code",
   "execution_count": 27,
   "id": "2248b289",
   "metadata": {},
   "outputs": [],
   "source": [
    "# 예측값 저장\n",
    "sample_submission.to_csv(f'{save_path}.csv',index=False)"
   ]
  }
 ],
 "metadata": {
  "kernelspec": {
   "display_name": "Python 3 (ipykernel)",
   "language": "python",
   "name": "python3"
  },
  "language_info": {
   "codemirror_mode": {
    "name": "ipython",
    "version": 3
   },
   "file_extension": ".py",
   "mimetype": "text/x-python",
   "name": "python",
   "nbconvert_exporter": "python",
   "pygments_lexer": "ipython3",
   "version": "3.9.7"
  }
 },
 "nbformat": 4,
 "nbformat_minor": 5
}
