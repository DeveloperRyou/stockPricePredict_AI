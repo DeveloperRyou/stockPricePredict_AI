{
 "cells": [
  {
   "cell_type": "markdown",
   "id": "e44a69ea",
   "metadata": {},
   "source": [
    "# LSTM\n",
    "## Using stock data of 60 days to predict"
   ]
  },
  {
   "cell_type": "code",
   "execution_count": 1,
   "id": "8c5dc215",
   "metadata": {},
   "outputs": [],
   "source": [
    "# install pakages\n",
    "# pip install finance-datareader, tqdm, ...\n",
    "! pip -q install --upgrade pip\n",
    "! pip --disable-pip-version-check -q install bs4\n",
    "! pip --disable-pip-version-check -q install finance-datareader\n",
    "! pip --disable-pip-version-check -q install tqdm\n",
    "! pip --disable-pip-version-check -q install matplotlib\n",
    "# install torch\n",
    "! pip --disable-pip-version-check -q install torch --extra-index-url https://download.pytorch.org/whl/cu113"
   ]
  },
  {
   "cell_type": "markdown",
   "id": "fcd6b905",
   "metadata": {},
   "source": [
    "# Data Processing"
   ]
  },
  {
   "cell_type": "code",
   "execution_count": 2,
   "id": "8a44e948",
   "metadata": {},
   "outputs": [],
   "source": [
    "import os\n",
    "os.environ[\"KMP_DUPLICATE_LIB_OK\"]=\"TRUE\"\n",
    "import pandas as pd\n",
    "import numpy as np\n",
    "import FinanceDataReader as fdr\n",
    "from tqdm import tqdm"
   ]
  },
  {
   "cell_type": "code",
   "execution_count": 3,
   "id": "5fd4b055",
   "metadata": {},
   "outputs": [],
   "source": [
    "# open stock data\n",
    "path = './open'\n",
    "list_name = 'stock_list.csv'\n",
    "sample_name = 'sample_submission.csv'"
   ]
  },
  {
   "cell_type": "code",
   "execution_count": 4,
   "id": "60699fab",
   "metadata": {
    "scrolled": true
   },
   "outputs": [],
   "source": [
    "# print stock data by code\n",
    "stock_list = pd.read_csv(os.path.join(path,list_name))\n",
    "stock_list['종목코드'] = stock_list['종목코드'].apply(lambda x : str(x).zfill(6))"
   ]
  },
  {
   "cell_type": "code",
   "execution_count": 5,
   "id": "967b2978",
   "metadata": {},
   "outputs": [],
   "source": [
    "# 60일의 일일 종가를 기준으로 예측\n",
    "predict_days = 60"
   ]
  },
  {
   "cell_type": "code",
   "execution_count": 6,
   "id": "3498e2cf",
   "metadata": {},
   "outputs": [],
   "source": [
    "# 주식 가격 가져오는 메소드\n",
    "def get_data(code, start_date, end_date):\n",
    "    stock_data = fdr.DataReader(code, start = start_date, end = end_date).reset_index()\n",
    "    # 토요일, 일요일 제거, Business day로 expand\n",
    "    business_days = pd.DataFrame(pd.date_range(start_date, end_date, freq='B'), columns = ['Date'])\n",
    "    stock_data = pd.merge(business_days, stock_data, how = 'outer')\n",
    "    # Nah를 그 전 종가로 채움\n",
    "    stock_data = stock_data.ffill() \n",
    "    # 그래도 Nah 있다면 Nah를 그 앞 종가로 채움\n",
    "    stock_data = stock_data.bfill() \n",
    "    return stock_data"
   ]
  },
  {
   "cell_type": "code",
   "execution_count": 7,
   "id": "ad1acbe5",
   "metadata": {},
   "outputs": [],
   "source": [
    "# 주식 가격 가공하는 메소드\n",
    "def process_data(stock_data):\n",
    "    features = ['Close'] # 종가만 가져오기\n",
    "    norm_factors = {'Close': 1e6} # 100만으로 나누기\n",
    "    stock_data = stock_data[features].copy()\n",
    "    for column in stock_data.columns:\n",
    "        stock_data[column] /= norm_factors[column]\n",
    "    stock_linear_data = stock_data.values.reshape(-1,1) # 세로 -> 가로 ( [ [],[],[] ...  ] )\n",
    "    \n",
    "    train = stock_linear_data[:-3] # train 데이터\n",
    "    val = stock_linear_data[-(predict_days+2):] # 예측기간 + 2 (train과 별개로 확인하기 위한 데이터, overfitting 확인 위함)\n",
    "    test = stock_linear_data[-(predict_days+1):] # 예측기간 + 1 (예측이 잘 되었는지 확인하기 위함)\n",
    "    return train, val, test\n",
    "\n",
    "# 주식 가격을 x, y 의 dict로 변환\n",
    "def to_xy(time_series):\n",
    "    xy = []\n",
    "    for i in range(predict_days, len(time_series)):\n",
    "        x = time_series[i-predict_days:i]\n",
    "        y = time_series[i]\n",
    "        xy.append({'x': x, 'y': y})\n",
    "    return xy"
   ]
  },
  {
   "cell_type": "code",
   "execution_count": 8,
   "id": "bbf2464b",
   "metadata": {},
   "outputs": [
    {
     "name": "stderr",
     "output_type": "stream",
     "text": [
      "100%|████████████████████████████████████████████████████████████████████████████████| 370/370 [01:24<00:00,  4.39it/s]\n"
     ]
    },
    {
     "data": {
      "text/plain": [
       "(56610, 740)"
      ]
     },
     "execution_count": 8,
     "metadata": {},
     "output_type": "execute_result"
    }
   ],
   "source": [
    "# set date\n",
    "start_date = '20210104'\n",
    "end_date = '20211101'\n",
    "# make data\n",
    "train_data, val_data, test_data = [], [], []\n",
    "for code in tqdm(stock_list['종목코드'].values):\n",
    "    data = get_data(code, start_date, end_date)\n",
    "    train, val, test = process_data(data)\n",
    "    train_data += to_xy(train)\n",
    "    val_data += to_xy(val)\n",
    "    test_data += to_xy(test)\n",
    "    \n",
    "len(train_data), len(val_data)"
   ]
  },
  {
   "cell_type": "markdown",
   "id": "9dd5420b",
   "metadata": {},
   "source": [
    "# Torch"
   ]
  },
  {
   "cell_type": "code",
   "execution_count": 9,
   "id": "fde29f58",
   "metadata": {},
   "outputs": [],
   "source": [
    "import torch\n",
    "import torch.nn as nn\n",
    "from torch.utils.data import Dataset, DataLoader"
   ]
  },
  {
   "cell_type": "code",
   "execution_count": 10,
   "id": "4ed212b9",
   "metadata": {},
   "outputs": [],
   "source": [
    "# Data to torchData\n",
    "class StockDataset(Dataset):\n",
    "    def __init__(self, data):\n",
    "        self.data = data\n",
    "            \n",
    "    def __len__(self):\n",
    "        return len(self.data)\n",
    "    \n",
    "    def __getitem__(self, i):\n",
    "        x = torch.tensor(self.data[i]['x'], dtype=torch.float32)\n",
    "        y = torch.tensor(self.data[i]['y'], dtype=torch.float32)\n",
    "        return x, y"
   ]
  },
  {
   "cell_type": "code",
   "execution_count": 11,
   "id": "f8886741",
   "metadata": {},
   "outputs": [],
   "source": [
    "trainset = StockDataset(train_data)\n",
    "valset = StockDataset(val_data)"
   ]
  },
  {
   "cell_type": "markdown",
   "id": "f66c9740",
   "metadata": {},
   "source": [
    "# Learning Model"
   ]
  },
  {
   "cell_type": "code",
   "execution_count": 12,
   "id": "54ce4499",
   "metadata": {},
   "outputs": [],
   "source": [
    "class StockPredictor(nn.Module):\n",
    "    def __init__(self, n, h):\n",
    "        super().__init__()\n",
    "        \n",
    "        self.lstm = nn.LSTM(\n",
    "            input_size=1, # 종가 input\n",
    "            hidden_size=h, \n",
    "            num_layers=n, \n",
    "            bidirectional=False, \n",
    "            batch_first=True\n",
    "        )\n",
    "        \n",
    "        self.linear = nn.Sequential(\n",
    "            nn.Flatten(), # [[1],[2],[3]...] -> [1,2,3]\n",
    "            nn.ReLU(),\n",
    "            nn.Linear(h, 1) # [1,2,3] -> [X]\n",
    "        )\n",
    "        \n",
    "    def forward(self, x):\n",
    "        # x : input (batch, seq)\n",
    "        lstm_output, lstm_hidden = self.lstm(x)\n",
    "        # lstm_output : (batch, seq, hidden_nodes)\n",
    "        linear_output = self.linear(lstm_output[:,-1,:]) # 마지막 결과만 이용해서 미래 가격 예측\n",
    "        \n",
    "        return linear_output"
   ]
  },
  {
   "cell_type": "markdown",
   "id": "af01b32d",
   "metadata": {},
   "source": [
    "# Training"
   ]
  },
  {
   "cell_type": "code",
   "execution_count": 13,
   "id": "73406f57",
   "metadata": {},
   "outputs": [
    {
     "data": {
      "text/plain": [
       "device(type='cuda', index=0)"
      ]
     },
     "execution_count": 13,
     "metadata": {},
     "output_type": "execute_result"
    }
   ],
   "source": [
    "# 학습 장치 설정\n",
    "if torch.cuda.is_available():\n",
    "    device = torch.device(\"cuda:0\")\n",
    "else:\n",
    "    device = torch.device(\"cpu\")\n",
    "device"
   ]
  },
  {
   "cell_type": "code",
   "execution_count": 59,
   "id": "59f7e7b9",
   "metadata": {},
   "outputs": [],
   "source": [
    "# 초기값 설정\n",
    "# jupyter 메모리 최대값 설정 변경\n",
    "# jupyter_notebook_config.py -> c.NotebookApp.max_buffer_size =10000000000\n",
    "num_epochs = 500\n",
    "num_workers = 0\n",
    "\n",
    "batch_size = 2048\n",
    "learning_rate = 5e-5\n",
    "\n",
    "n = 2\n",
    "h = 8"
   ]
  },
  {
   "cell_type": "code",
   "execution_count": 60,
   "id": "b9f5a373",
   "metadata": {},
   "outputs": [
    {
     "data": {
      "text/plain": [
       "'LSTM_2layers_8nodes'"
      ]
     },
     "execution_count": 60,
     "metadata": {},
     "output_type": "execute_result"
    }
   ],
   "source": [
    "# set name, path to save model\n",
    "model_name = f'LSTM_{n}layers_{h}nodes'\n",
    "model_path = f'./models/'\n",
    "if not os.path.isdir(model_path):\n",
    "    os.mkdir(model_path)\n",
    "if not os.path.isdir(model_path+model_name):\n",
    "    os.mkdir(model_path+model_name)\n",
    "\n",
    "save_path = f'{model_path}{model_name}/bs{batch_size}_lr{learning_rate}_date({start_date}~{end_date}).pt'\n",
    "model_name"
   ]
  },
  {
   "cell_type": "code",
   "execution_count": 61,
   "id": "4c66a872",
   "metadata": {},
   "outputs": [],
   "source": [
    "# model, optimizer\n",
    "model = StockPredictor(n, h).to(device)\n",
    "optimizer = torch.optim.Adam(model.parameters(), lr=learning_rate)"
   ]
  },
  {
   "cell_type": "code",
   "execution_count": 62,
   "id": "7cd4c998",
   "metadata": {},
   "outputs": [],
   "source": [
    "train_loader = torch.utils.data.DataLoader(trainset, batch_size=batch_size, num_workers=num_workers, shuffle=True)\n",
    "val_loader = torch.utils.data.DataLoader(valset, batch_size=batch_size, num_workers=num_workers, shuffle=False)"
   ]
  },
  {
   "cell_type": "code",
   "execution_count": 46,
   "id": "9ec9c2d6",
   "metadata": {},
   "outputs": [],
   "source": [
    "def step(batch, training):\n",
    "    x = batch[0].to(device)\n",
    "    y = batch[1].to(device)\n",
    "    if training:\n",
    "        model.train()\n",
    "        output = model(x)\n",
    "        loss = nn.L1Loss()(output, y)\n",
    "        loss.backward()\n",
    "        optimizer.step()\n",
    "        optimizer.zero_grad()\n",
    "    else:\n",
    "        model.eval()\n",
    "        with torch.no_grad():\n",
    "            output = model(x)\n",
    "            loss = nn.L1Loss()(output, y)\n",
    "    return loss.item() * x.shape[0]\n",
    "\n",
    "\n",
    "def run_epoch(loader, training):\n",
    "    total_loss = 0\n",
    "    # 배치 size만큼 학습\n",
    "    for batch in tqdm(loader):\n",
    "        batch_loss = step(batch, training)\n",
    "        total_loss += batch_loss\n",
    "    return total_loss/len(loader.dataset)"
   ]
  },
  {
   "cell_type": "code",
   "execution_count": 47,
   "id": "46c043ad",
   "metadata": {},
   "outputs": [],
   "source": [
    "# show plot\n",
    "def show_loss_plot():\n",
    "    plt.ylim(0, 0.01)\n",
    "    plt.plot(train_loss_plot, label='train_loss')\n",
    "    plt.plot(val_loss_plot, label='val_loss')\n",
    "    plt.xlabel('epoch')\n",
    "    plt.ylabel('loss')\n",
    "    plt.legend()\n",
    "    plt.show()"
   ]
  },
  {
   "cell_type": "code",
   "execution_count": 63,
   "id": "a77d23f1",
   "metadata": {
    "scrolled": false
   },
   "outputs": [
    {
     "name": "stdout",
     "output_type": "stream",
     "text": [
      "epoch 499\n",
      "train_loss 0.0036495964183338673\n",
      "val_loss   0.0033566998317837715\n"
     ]
    },
    {
     "data": {
      "image/png": "[encoded data removed]",
      "text/plain": [
       "<Figure size 432x288 with 1 Axes>"
      ]
     },
     "metadata": {
      "needs_background": "light"
     },
     "output_type": "display_data"
    }
   ],
   "source": [
    "import matplotlib.pyplot as plt\n",
    "import IPython.display as ipd\n",
    "\n",
    "train_loss_plot, val_loss_plot = [], []\n",
    "for epoch in range(num_epochs):\n",
    "    # train set으로 학습\n",
    "    train_epoch_loss = run_epoch(train_loader, training=True)\n",
    "    # val set으로 평가\n",
    "    val_epoch_loss = run_epoch(val_loader, training=False)\n",
    "    # 평가값 저장\n",
    "    train_loss_plot.append(train_epoch_loss)\n",
    "    val_loss_plot.append(val_epoch_loss)\n",
    "\n",
    "    # 애니메이션 형식으로 출력\n",
    "    ipd.clear_output(wait=True)\n",
    "    print('epoch' , epoch)\n",
    "    print('train_loss', train_loss_plot[-1])\n",
    "    print('val_loss  ', val_loss_plot[-1])\n",
    "    show_loss_plot()\n",
    "    \n",
    "    # 가장 좋게 평가된 모델 저장\n",
    "    if min(val_loss_plot)==val_epoch_loss:\n",
    "        torch.save(model.state_dict(), save_path)"
   ]
  },
  {
   "cell_type": "markdown",
   "id": "5a381500",
   "metadata": {},
   "source": [
    "# Test"
   ]
  },
  {
   "cell_type": "code",
   "execution_count": 64,
   "id": "0bd57d0e",
   "metadata": {},
   "outputs": [
    {
     "data": {
      "text/plain": [
       "<All keys matched successfully>"
      ]
     },
     "execution_count": 64,
     "metadata": {},
     "output_type": "execute_result"
    }
   ],
   "source": [
    "model.eval()\n",
    "model.load_state_dict(torch.load(save_path, map_location=device))"
   ]
  },
  {
   "cell_type": "code",
   "execution_count": 188,
   "id": "93c7a6bd",
   "metadata": {},
   "outputs": [
    {
     "data": {
      "text/plain": [
       "((370, 60, 1), (370, 1))"
      ]
     },
     "execution_count": 188,
     "metadata": {},
     "output_type": "execute_result"
    }
   ],
   "source": [
    "test_x = np.stack([data['x'] for data in test_data])\n",
    "test_y = np.stack([data['y'] for data in test_data])\n",
    "test_x.shape, test_y.shape"
   ]
  },
  {
   "cell_type": "code",
   "execution_count": 189,
   "id": "0ec13c7b",
   "metadata": {
    "scrolled": true
   },
   "outputs": [
    {
     "data": {
      "text/plain": [
       "(370, 1)"
      ]
     },
     "execution_count": 189,
     "metadata": {},
     "output_type": "execute_result"
    }
   ],
   "source": [
    "x = torch.tensor(test_x, dtype=torch.float32)\n",
    "with torch.no_grad():\n",
    "    pred = model(x.to(device))\n",
    "    \n",
    "pred = pred.cpu().detach().numpy()\n",
    "pred.shape"
   ]
  },
  {
   "cell_type": "code",
   "execution_count": 190,
   "id": "e14cae3f",
   "metadata": {},
   "outputs": [
    {
     "name": "stdout",
     "output_type": "stream",
     "text": [
      "(370, 60, 1) (370, 1, 1)\n",
      "(22570,)\n",
      "torch.Size([22570])\n"
     ]
    },
    {
     "ename": "RuntimeError",
     "evalue": "input must have 3 dimensions, got 2",
     "output_type": "error",
     "traceback": [
      "\u001b[1;31m---------------------------------------------------------------------------\u001b[0m",
      "\u001b[1;31mRuntimeError\u001b[0m                              Traceback (most recent call last)",
      "Input \u001b[1;32mIn [190]\u001b[0m, in \u001b[0;36m<cell line: 8>\u001b[1;34m()\u001b[0m\n\u001b[0;32m     19\u001b[0m     \u001b[38;5;28mprint\u001b[39m(x\u001b[38;5;241m.\u001b[39mshape)\n\u001b[0;32m     20\u001b[0m     \u001b[38;5;28;01mwith\u001b[39;00m torch\u001b[38;5;241m.\u001b[39mno_grad():\n\u001b[1;32m---> 21\u001b[0m         pred \u001b[38;5;241m=\u001b[39m \u001b[43mmodel\u001b[49m\u001b[43m(\u001b[49m\u001b[43mx\u001b[49m\u001b[38;5;241;43m.\u001b[39;49m\u001b[43mto\u001b[49m\u001b[43m(\u001b[49m\u001b[43mdevice\u001b[49m\u001b[43m)\u001b[49m\u001b[43m)\u001b[49m\n\u001b[0;32m     22\u001b[0m     pred \u001b[38;5;241m=\u001b[39m pred\u001b[38;5;241m.\u001b[39mcpu()\u001b[38;5;241m.\u001b[39mdetach()\u001b[38;5;241m.\u001b[39mnumpy()\n\u001b[0;32m     23\u001b[0m sample_submission\n",
      "File \u001b[1;32mC:\\ProgramData\\Anaconda3\\lib\\site-packages\\torch\\nn\\modules\\module.py:1110\u001b[0m, in \u001b[0;36mModule._call_impl\u001b[1;34m(self, *input, **kwargs)\u001b[0m\n\u001b[0;32m   1106\u001b[0m \u001b[38;5;66;03m# If we don't have any hooks, we want to skip the rest of the logic in\u001b[39;00m\n\u001b[0;32m   1107\u001b[0m \u001b[38;5;66;03m# this function, and just call forward.\u001b[39;00m\n\u001b[0;32m   1108\u001b[0m \u001b[38;5;28;01mif\u001b[39;00m \u001b[38;5;129;01mnot\u001b[39;00m (\u001b[38;5;28mself\u001b[39m\u001b[38;5;241m.\u001b[39m_backward_hooks \u001b[38;5;129;01mor\u001b[39;00m \u001b[38;5;28mself\u001b[39m\u001b[38;5;241m.\u001b[39m_forward_hooks \u001b[38;5;129;01mor\u001b[39;00m \u001b[38;5;28mself\u001b[39m\u001b[38;5;241m.\u001b[39m_forward_pre_hooks \u001b[38;5;129;01mor\u001b[39;00m _global_backward_hooks\n\u001b[0;32m   1109\u001b[0m         \u001b[38;5;129;01mor\u001b[39;00m _global_forward_hooks \u001b[38;5;129;01mor\u001b[39;00m _global_forward_pre_hooks):\n\u001b[1;32m-> 1110\u001b[0m     \u001b[38;5;28;01mreturn\u001b[39;00m forward_call(\u001b[38;5;241m*\u001b[39m\u001b[38;5;28minput\u001b[39m, \u001b[38;5;241m*\u001b[39m\u001b[38;5;241m*\u001b[39mkwargs)\n\u001b[0;32m   1111\u001b[0m \u001b[38;5;66;03m# Do not call functions when jit is used\u001b[39;00m\n\u001b[0;32m   1112\u001b[0m full_backward_hooks, non_full_backward_hooks \u001b[38;5;241m=\u001b[39m [], []\n",
      "Input \u001b[1;32mIn [12]\u001b[0m, in \u001b[0;36mStockPredictor.forward\u001b[1;34m(self, x)\u001b[0m\n\u001b[0;32m     19\u001b[0m \u001b[38;5;28;01mdef\u001b[39;00m \u001b[38;5;21mforward\u001b[39m(\u001b[38;5;28mself\u001b[39m, x):\n\u001b[0;32m     20\u001b[0m     \u001b[38;5;66;03m# x : input (batch, seq)\u001b[39;00m\n\u001b[1;32m---> 21\u001b[0m     lstm_output, lstm_hidden \u001b[38;5;241m=\u001b[39m \u001b[38;5;28;43mself\u001b[39;49m\u001b[38;5;241;43m.\u001b[39;49m\u001b[43mlstm\u001b[49m\u001b[43m(\u001b[49m\u001b[43mx\u001b[49m\u001b[43m)\u001b[49m\n\u001b[0;32m     22\u001b[0m     \u001b[38;5;66;03m# lstm_output : (batch, seq, hidden_nodes)\u001b[39;00m\n\u001b[0;32m     23\u001b[0m     linear_output \u001b[38;5;241m=\u001b[39m \u001b[38;5;28mself\u001b[39m\u001b[38;5;241m.\u001b[39mlinear(lstm_output[:,\u001b[38;5;241m-\u001b[39m\u001b[38;5;241m1\u001b[39m,:]) \u001b[38;5;66;03m# 마지막 결과만 이용해서 미래 가격 예측\u001b[39;00m\n",
      "File \u001b[1;32mC:\\ProgramData\\Anaconda3\\lib\\site-packages\\torch\\nn\\modules\\module.py:1110\u001b[0m, in \u001b[0;36mModule._call_impl\u001b[1;34m(self, *input, **kwargs)\u001b[0m\n\u001b[0;32m   1106\u001b[0m \u001b[38;5;66;03m# If we don't have any hooks, we want to skip the rest of the logic in\u001b[39;00m\n\u001b[0;32m   1107\u001b[0m \u001b[38;5;66;03m# this function, and just call forward.\u001b[39;00m\n\u001b[0;32m   1108\u001b[0m \u001b[38;5;28;01mif\u001b[39;00m \u001b[38;5;129;01mnot\u001b[39;00m (\u001b[38;5;28mself\u001b[39m\u001b[38;5;241m.\u001b[39m_backward_hooks \u001b[38;5;129;01mor\u001b[39;00m \u001b[38;5;28mself\u001b[39m\u001b[38;5;241m.\u001b[39m_forward_hooks \u001b[38;5;129;01mor\u001b[39;00m \u001b[38;5;28mself\u001b[39m\u001b[38;5;241m.\u001b[39m_forward_pre_hooks \u001b[38;5;129;01mor\u001b[39;00m _global_backward_hooks\n\u001b[0;32m   1109\u001b[0m         \u001b[38;5;129;01mor\u001b[39;00m _global_forward_hooks \u001b[38;5;129;01mor\u001b[39;00m _global_forward_pre_hooks):\n\u001b[1;32m-> 1110\u001b[0m     \u001b[38;5;28;01mreturn\u001b[39;00m forward_call(\u001b[38;5;241m*\u001b[39m\u001b[38;5;28minput\u001b[39m, \u001b[38;5;241m*\u001b[39m\u001b[38;5;241m*\u001b[39mkwargs)\n\u001b[0;32m   1111\u001b[0m \u001b[38;5;66;03m# Do not call functions when jit is used\u001b[39;00m\n\u001b[0;32m   1112\u001b[0m full_backward_hooks, non_full_backward_hooks \u001b[38;5;241m=\u001b[39m [], []\n",
      "File \u001b[1;32mC:\\ProgramData\\Anaconda3\\lib\\site-packages\\torch\\nn\\modules\\rnn.py:759\u001b[0m, in \u001b[0;36mLSTM.forward\u001b[1;34m(self, input, hx)\u001b[0m\n\u001b[0;32m    755\u001b[0m     \u001b[38;5;66;03m# Each batch of the hidden state should match the input sequence that\u001b[39;00m\n\u001b[0;32m    756\u001b[0m     \u001b[38;5;66;03m# the user believes he/she is passing in.\u001b[39;00m\n\u001b[0;32m    757\u001b[0m     hx \u001b[38;5;241m=\u001b[39m \u001b[38;5;28mself\u001b[39m\u001b[38;5;241m.\u001b[39mpermute_hidden(hx, sorted_indices)\n\u001b[1;32m--> 759\u001b[0m \u001b[38;5;28;43mself\u001b[39;49m\u001b[38;5;241;43m.\u001b[39;49m\u001b[43mcheck_forward_args\u001b[49m\u001b[43m(\u001b[49m\u001b[38;5;28;43minput\u001b[39;49m\u001b[43m,\u001b[49m\u001b[43m \u001b[49m\u001b[43mhx\u001b[49m\u001b[43m,\u001b[49m\u001b[43m \u001b[49m\u001b[43mbatch_sizes\u001b[49m\u001b[43m)\u001b[49m\n\u001b[0;32m    760\u001b[0m \u001b[38;5;28;01mif\u001b[39;00m batch_sizes \u001b[38;5;129;01mis\u001b[39;00m \u001b[38;5;28;01mNone\u001b[39;00m:\n\u001b[0;32m    761\u001b[0m     result \u001b[38;5;241m=\u001b[39m _VF\u001b[38;5;241m.\u001b[39mlstm(\u001b[38;5;28minput\u001b[39m, hx, \u001b[38;5;28mself\u001b[39m\u001b[38;5;241m.\u001b[39m_flat_weights, \u001b[38;5;28mself\u001b[39m\u001b[38;5;241m.\u001b[39mbias, \u001b[38;5;28mself\u001b[39m\u001b[38;5;241m.\u001b[39mnum_layers,\n\u001b[0;32m    762\u001b[0m                       \u001b[38;5;28mself\u001b[39m\u001b[38;5;241m.\u001b[39mdropout, \u001b[38;5;28mself\u001b[39m\u001b[38;5;241m.\u001b[39mtraining, \u001b[38;5;28mself\u001b[39m\u001b[38;5;241m.\u001b[39mbidirectional, \u001b[38;5;28mself\u001b[39m\u001b[38;5;241m.\u001b[39mbatch_first)\n",
      "File \u001b[1;32mC:\\ProgramData\\Anaconda3\\lib\\site-packages\\torch\\nn\\modules\\rnn.py:684\u001b[0m, in \u001b[0;36mLSTM.check_forward_args\u001b[1;34m(self, input, hidden, batch_sizes)\u001b[0m\n\u001b[0;32m    679\u001b[0m \u001b[38;5;28;01mdef\u001b[39;00m \u001b[38;5;21mcheck_forward_args\u001b[39m(\u001b[38;5;28mself\u001b[39m,  \u001b[38;5;66;03m# type: ignore[override]\u001b[39;00m\n\u001b[0;32m    680\u001b[0m                        \u001b[38;5;28minput\u001b[39m: Tensor,\n\u001b[0;32m    681\u001b[0m                        hidden: Tuple[Tensor, Tensor],\n\u001b[0;32m    682\u001b[0m                        batch_sizes: Optional[Tensor],\n\u001b[0;32m    683\u001b[0m                        ):\n\u001b[1;32m--> 684\u001b[0m     \u001b[38;5;28;43mself\u001b[39;49m\u001b[38;5;241;43m.\u001b[39;49m\u001b[43mcheck_input\u001b[49m\u001b[43m(\u001b[49m\u001b[38;5;28;43minput\u001b[39;49m\u001b[43m,\u001b[49m\u001b[43m \u001b[49m\u001b[43mbatch_sizes\u001b[49m\u001b[43m)\u001b[49m\n\u001b[0;32m    685\u001b[0m     \u001b[38;5;28mself\u001b[39m\u001b[38;5;241m.\u001b[39mcheck_hidden_size(hidden[\u001b[38;5;241m0\u001b[39m], \u001b[38;5;28mself\u001b[39m\u001b[38;5;241m.\u001b[39mget_expected_hidden_size(\u001b[38;5;28minput\u001b[39m, batch_sizes),\n\u001b[0;32m    686\u001b[0m                            \u001b[38;5;124m'\u001b[39m\u001b[38;5;124mExpected hidden[0] size \u001b[39m\u001b[38;5;132;01m{}\u001b[39;00m\u001b[38;5;124m, got \u001b[39m\u001b[38;5;132;01m{}\u001b[39;00m\u001b[38;5;124m'\u001b[39m)\n\u001b[0;32m    687\u001b[0m     \u001b[38;5;28mself\u001b[39m\u001b[38;5;241m.\u001b[39mcheck_hidden_size(hidden[\u001b[38;5;241m1\u001b[39m], \u001b[38;5;28mself\u001b[39m\u001b[38;5;241m.\u001b[39mget_expected_cell_size(\u001b[38;5;28minput\u001b[39m, batch_sizes),\n\u001b[0;32m    688\u001b[0m                            \u001b[38;5;124m'\u001b[39m\u001b[38;5;124mExpected hidden[1] size \u001b[39m\u001b[38;5;132;01m{}\u001b[39;00m\u001b[38;5;124m, got \u001b[39m\u001b[38;5;132;01m{}\u001b[39;00m\u001b[38;5;124m'\u001b[39m)\n",
      "File \u001b[1;32mC:\\ProgramData\\Anaconda3\\lib\\site-packages\\torch\\nn\\modules\\rnn.py:201\u001b[0m, in \u001b[0;36mRNNBase.check_input\u001b[1;34m(self, input, batch_sizes)\u001b[0m\n\u001b[0;32m    199\u001b[0m expected_input_dim \u001b[38;5;241m=\u001b[39m \u001b[38;5;241m2\u001b[39m \u001b[38;5;28;01mif\u001b[39;00m batch_sizes \u001b[38;5;129;01mis\u001b[39;00m \u001b[38;5;129;01mnot\u001b[39;00m \u001b[38;5;28;01mNone\u001b[39;00m \u001b[38;5;28;01melse\u001b[39;00m \u001b[38;5;241m3\u001b[39m\n\u001b[0;32m    200\u001b[0m \u001b[38;5;28;01mif\u001b[39;00m \u001b[38;5;28minput\u001b[39m\u001b[38;5;241m.\u001b[39mdim() \u001b[38;5;241m!=\u001b[39m expected_input_dim:\n\u001b[1;32m--> 201\u001b[0m     \u001b[38;5;28;01mraise\u001b[39;00m \u001b[38;5;167;01mRuntimeError\u001b[39;00m(\n\u001b[0;32m    202\u001b[0m         \u001b[38;5;124m'\u001b[39m\u001b[38;5;124minput must have \u001b[39m\u001b[38;5;132;01m{}\u001b[39;00m\u001b[38;5;124m dimensions, got \u001b[39m\u001b[38;5;132;01m{}\u001b[39;00m\u001b[38;5;124m'\u001b[39m\u001b[38;5;241m.\u001b[39mformat(\n\u001b[0;32m    203\u001b[0m             expected_input_dim, \u001b[38;5;28minput\u001b[39m\u001b[38;5;241m.\u001b[39mdim()))\n\u001b[0;32m    204\u001b[0m \u001b[38;5;28;01mif\u001b[39;00m \u001b[38;5;28mself\u001b[39m\u001b[38;5;241m.\u001b[39minput_size \u001b[38;5;241m!=\u001b[39m \u001b[38;5;28minput\u001b[39m\u001b[38;5;241m.\u001b[39msize(\u001b[38;5;241m-\u001b[39m\u001b[38;5;241m1\u001b[39m):\n\u001b[0;32m    205\u001b[0m     \u001b[38;5;28;01mraise\u001b[39;00m \u001b[38;5;167;01mRuntimeError\u001b[39;00m(\n\u001b[0;32m    206\u001b[0m         \u001b[38;5;124m'\u001b[39m\u001b[38;5;124minput.size(-1) must be equal to input_size. Expected \u001b[39m\u001b[38;5;132;01m{}\u001b[39;00m\u001b[38;5;124m, got \u001b[39m\u001b[38;5;132;01m{}\u001b[39;00m\u001b[38;5;124m'\u001b[39m\u001b[38;5;241m.\u001b[39mformat(\n\u001b[0;32m    207\u001b[0m             \u001b[38;5;28mself\u001b[39m\u001b[38;5;241m.\u001b[39minput_size, \u001b[38;5;28minput\u001b[39m\u001b[38;5;241m.\u001b[39msize(\u001b[38;5;241m-\u001b[39m\u001b[38;5;241m1\u001b[39m)))\n",
      "\u001b[1;31mRuntimeError\u001b[0m: input must have 3 dimensions, got 2"
     ]
    }
   ],
   "source": [
    "def process_submission(index, pred, submission):\n",
    "    for code_id, p in enumerate(pred):\n",
    "        code = stock_list.reset_index().loc[code_id,'종목코드']\n",
    "        submission.loc[index,code] = p * 1e6\n",
    "    return submission\n",
    "\n",
    "sample_submission = pd.read_csv(os.path.join(path,sample_name))\n",
    "for i in range(5): # 11-01 ~ 11-05\n",
    "    # csv에 한 행 넣기\n",
    "    process_submission(i, pred, sample_submission)\n",
    "    \n",
    "    # 다음날 예측\n",
    "    next_x = pred.reshape(-1,1,1)\n",
    "    \n",
    "    print(test_x.shape, next_x.shape)\n",
    "    \n",
    "    test_x = np.append(test_x, next_x)\n",
    "    print(test_x.shape)\n",
    "    x = torch.tensor(test_x, dtype=torch.float32)\n",
    "    print(x.shape)\n",
    "    with torch.no_grad():\n",
    "        pred = model(x.to(device))\n",
    "    pred = pred.cpu().detach().numpy()\n",
    "sample_submission"
   ]
  },
  {
   "cell_type": "code",
   "execution_count": null,
   "id": "2248b289",
   "metadata": {},
   "outputs": [],
   "source": [
    "# 예측값 저장\n",
    "sample_submission.to_csv(f'{model_name}.csv',index=False)"
   ]
  }
 ],
 "metadata": {
  "kernelspec": {
   "display_name": "Python 3 (ipykernel)",
   "language": "python",
   "name": "python3"
  },
  "language_info": {
   "codemirror_mode": {
    "name": "ipython",
    "version": 3
   },
   "file_extension": ".py",
   "mimetype": "text/x-python",
   "name": "python",
   "nbconvert_exporter": "python",
   "pygments_lexer": "ipython3",
   "version": "3.9.7"
  }
 },
 "nbformat": 4,
 "nbformat_minor": 5
}
